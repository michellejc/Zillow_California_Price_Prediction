{
 "cells": [
  {
   "cell_type": "markdown",
   "metadata": {},
   "source": [
    "# Zillow Average Home Price Prediction \n",
    "\n",
    "Exploring a variety of time series models using Zillow average home price data from Kaggle.\n"
   ]
  },
  {
   "cell_type": "code",
   "execution_count": 4,
   "metadata": {
    "cell_id": "00000-c8449d1f-d49e-4f07-a856-3ae5cfd61b63",
    "deepnote_cell_type": "code",
    "deepnote_to_be_reexecuted": false,
    "execution_millis": 1982,
    "execution_start": 1615212035943,
    "id": "_Owalq5P-Nv_",
    "source_hash": "1f11f1a0"
   },
   "outputs": [],
   "source": [
    "import matplotlib.pyplot as plt\n",
    "import numpy as np\n",
    "import pandas as pd\n",
    "import statsmodels.api as sm\n",
    "\n",
    "from math import sqrt\n",
    "from numpy import concatenate\n",
    "\n",
    "from statsmodels.graphics.tsaplots       import plot_acf\n",
    "from statsmodels.graphics.tsaplots       import plot_pacf\n",
    "from statsmodels.tsa.stattools           import adfuller\n",
    "from statsmodels.tsa.holtwinters         import ExponentialSmoothing\n",
    "from statsmodels.tsa.statespace.sarimax  import SARIMAX\n",
    "\n",
    "from pmdarima.arima                      import auto_arima\n",
    "\n",
    "from sklearn.metrics                     import mean_squared_error\n",
    "from sklearn.preprocessing               import MinMaxScaler\n",
    "from sklearn.metrics                     import mean_squared_error\n",
    "\n",
    "from fbprophet import Prophet\n",
    "\n",
    "import warnings\n",
    "warnings.filterwarnings(\"ignore\")"
   ]
  },
  {
   "cell_type": "markdown",
   "metadata": {},
   "source": [
    "# Part 1: EDA \n",
    "\n",
    "### Reading in the data "
   ]
  },
  {
   "cell_type": "code",
   "execution_count": null,
   "metadata": {
    "cell_id": "00002-6fd61160-d2b4-4fcb-a76a-aba30aa1f6df",
    "colab": {
     "base_uri": "https://localhost:8080/",
     "height": 375
    },
    "deepnote_cell_type": "code",
    "deepnote_to_be_reexecuted": false,
    "execution_millis": 17,
    "execution_start": 1615206211877,
    "id": "ZBu6iysk-v3s",
    "outputId": "c2a7b4e0-4674-4262-95bc-de8ff7385d3e",
    "source_hash": "575fc28e"
   },
   "outputs": [],
   "source": [
    "data = pd.read_csv('zillow-carlifornia.csv')"
   ]
  },
  {
   "cell_type": "code",
   "execution_count": null,
   "metadata": {
    "cell_id": "00003-309c9394-0afd-4c28-8db5-db44706ad18c",
    "colab": {
     "base_uri": "https://localhost:8080/",
     "height": 204
    },
    "deepnote_cell_type": "code",
    "deepnote_to_be_reexecuted": false,
    "execution_millis": 18,
    "execution_start": 1615183850079,
    "id": "ectYJzP_-59P",
    "outputId": "30d1e48f-a4c9-45e3-af0f-be8ab4490438",
    "source_hash": "9a10eb86"
   },
   "outputs": [
    {
     "data": {
      "application/vnd.deepnote.dataframe.v2+json": {
       "column_count": 4,
       "columns": [
        {
         "dtype": "object",
         "name": "Date",
         "stats": {
          "categories": [
           {
            "count": 1,
            "name": "2016-08-31"
           },
           {
            "count": 1,
            "name": "2016-09-30"
           },
           {
            "count": 3,
            "name": "3 others"
           }
          ],
          "nan_count": 0,
          "unique_count": 5
         }
        },
        {
         "dtype": "float64",
         "name": "MedianSoldPrice_AllHomes.California",
         "stats": {
          "histogram": [
           {
            "bin_end": 0.1,
            "bin_start": 0,
            "count": 0
           },
           {
            "bin_end": 0.2,
            "bin_start": 0.1,
            "count": 0
           },
           {
            "bin_end": 0.30000000000000004,
            "bin_start": 0.2,
            "count": 0
           },
           {
            "bin_end": 0.4,
            "bin_start": 0.30000000000000004,
            "count": 0
           },
           {
            "bin_end": 0.5,
            "bin_start": 0.4,
            "count": 0
           },
           {
            "bin_end": 0.6000000000000001,
            "bin_start": 0.5,
            "count": 0
           },
           {
            "bin_end": 0.7000000000000001,
            "bin_start": 0.6000000000000001,
            "count": 0
           },
           {
            "bin_end": 0.8,
            "bin_start": 0.7000000000000001,
            "count": 0
           },
           {
            "bin_end": 0.9,
            "bin_start": 0.8,
            "count": 0
           },
           {
            "bin_end": 1,
            "bin_start": 0.9,
            "count": 0
           }
          ],
          "max": null,
          "min": null,
          "nan_count": 5,
          "unique_count": 0
         }
        },
        {
         "dtype": "float64",
         "name": "MedianMortageRate",
         "stats": {
          "histogram": [
           {
            "bin_end": 3.431,
            "bin_start": 3.36,
            "count": 2
           },
           {
            "bin_end": 3.502,
            "bin_start": 3.431,
            "count": 2
           },
           {
            "bin_end": 3.573,
            "bin_start": 3.502,
            "count": 0
           },
           {
            "bin_end": 3.644,
            "bin_start": 3.573,
            "count": 0
           },
           {
            "bin_end": 3.715,
            "bin_start": 3.644,
            "count": 0
           },
           {
            "bin_end": 3.786,
            "bin_start": 3.715,
            "count": 0
           },
           {
            "bin_end": 3.857,
            "bin_start": 3.786,
            "count": 0
           },
           {
            "bin_end": 3.928,
            "bin_start": 3.857,
            "count": 0
           },
           {
            "bin_end": 3.999,
            "bin_start": 3.928,
            "count": 0
           },
           {
            "bin_end": 4.07,
            "bin_start": 3.999,
            "count": 1
           }
          ],
          "max": 4.07,
          "min": 3.36,
          "nan_count": 0,
          "unique_count": 5
         }
        },
        {
         "dtype": "float64",
         "name": "UnemploymentRate",
         "stats": {
          "histogram": [
           {
            "bin_end": 4.73,
            "bin_start": 4.7,
            "count": 1
           },
           {
            "bin_end": 4.76,
            "bin_start": 4.73,
            "count": 0
           },
           {
            "bin_end": 4.79,
            "bin_start": 4.76,
            "count": 0
           },
           {
            "bin_end": 4.82,
            "bin_start": 4.79,
            "count": 2
           },
           {
            "bin_end": 4.85,
            "bin_start": 4.82,
            "count": 0
           },
           {
            "bin_end": 4.88,
            "bin_start": 4.85,
            "count": 0
           },
           {
            "bin_end": 4.91,
            "bin_start": 4.88,
            "count": 0
           },
           {
            "bin_end": 4.94,
            "bin_start": 4.91,
            "count": 0
           },
           {
            "bin_end": 4.97,
            "bin_start": 4.94,
            "count": 0
           },
           {
            "bin_end": 5,
            "bin_start": 4.97,
            "count": 2
           }
          ],
          "max": 5,
          "min": 4.7,
          "nan_count": 0,
          "unique_count": 3
         }
        },
        {
         "dtype": "int64",
         "name": "_deepnote_index_column"
        }
       ],
       "row_count": 5,
       "rows_bottom": null,
       "rows_top": [
        {
         "Date": "2016-08-31",
         "MedianMortageRate": 3.46,
         "MedianSoldPrice_AllHomes.California": "nan",
         "UnemploymentRate": 4.8,
         "_deepnote_index_column": 102
        },
        {
         "Date": "2016-09-30",
         "MedianMortageRate": 3.42,
         "MedianSoldPrice_AllHomes.California": "nan",
         "UnemploymentRate": 5,
         "_deepnote_index_column": 103
        },
        {
         "Date": "2016-10-31",
         "MedianMortageRate": 3.36,
         "MedianSoldPrice_AllHomes.California": "nan",
         "UnemploymentRate": 5,
         "_deepnote_index_column": 104
        },
        {
         "Date": "2016-11-30",
         "MedianMortageRate": 3.47,
         "MedianSoldPrice_AllHomes.California": "nan",
         "UnemploymentRate": 4.8,
         "_deepnote_index_column": 105
        },
        {
         "Date": "2016-12-31",
         "MedianMortageRate": 4.07,
         "MedianSoldPrice_AllHomes.California": "nan",
         "UnemploymentRate": 4.7,
         "_deepnote_index_column": 106
        }
       ]
      },
      "text/html": [
       "<div>\n",
       "<style scoped>\n",
       "    .dataframe tbody tr th:only-of-type {\n",
       "        vertical-align: middle;\n",
       "    }\n",
       "\n",
       "    .dataframe tbody tr th {\n",
       "        vertical-align: top;\n",
       "    }\n",
       "\n",
       "    .dataframe thead th {\n",
       "        text-align: right;\n",
       "    }\n",
       "</style>\n",
       "<table border=\"1\" class=\"dataframe\">\n",
       "  <thead>\n",
       "    <tr style=\"text-align: right;\">\n",
       "      <th></th>\n",
       "      <th>Date</th>\n",
       "      <th>MedianSoldPrice_AllHomes.California</th>\n",
       "      <th>MedianMortageRate</th>\n",
       "      <th>UnemploymentRate</th>\n",
       "    </tr>\n",
       "  </thead>\n",
       "  <tbody>\n",
       "    <tr>\n",
       "      <th>102</th>\n",
       "      <td>2016-08-31</td>\n",
       "      <td>NaN</td>\n",
       "      <td>3.46</td>\n",
       "      <td>4.8</td>\n",
       "    </tr>\n",
       "    <tr>\n",
       "      <th>103</th>\n",
       "      <td>2016-09-30</td>\n",
       "      <td>NaN</td>\n",
       "      <td>3.42</td>\n",
       "      <td>5.0</td>\n",
       "    </tr>\n",
       "    <tr>\n",
       "      <th>104</th>\n",
       "      <td>2016-10-31</td>\n",
       "      <td>NaN</td>\n",
       "      <td>3.36</td>\n",
       "      <td>5.0</td>\n",
       "    </tr>\n",
       "    <tr>\n",
       "      <th>105</th>\n",
       "      <td>2016-11-30</td>\n",
       "      <td>NaN</td>\n",
       "      <td>3.47</td>\n",
       "      <td>4.8</td>\n",
       "    </tr>\n",
       "    <tr>\n",
       "      <th>106</th>\n",
       "      <td>2016-12-31</td>\n",
       "      <td>NaN</td>\n",
       "      <td>4.07</td>\n",
       "      <td>4.7</td>\n",
       "    </tr>\n",
       "  </tbody>\n",
       "</table>\n",
       "</div>"
      ],
      "text/plain": [
       "           Date  MedianSoldPrice_AllHomes.California  MedianMortageRate  \\\n",
       "102  2016-08-31                                  NaN               3.46   \n",
       "103  2016-09-30                                  NaN               3.42   \n",
       "104  2016-10-31                                  NaN               3.36   \n",
       "105  2016-11-30                                  NaN               3.47   \n",
       "106  2016-12-31                                  NaN               4.07   \n",
       "\n",
       "     UnemploymentRate  \n",
       "102               4.8  \n",
       "103               5.0  \n",
       "104               5.0  \n",
       "105               4.8  \n",
       "106               4.7  "
      ]
     },
     "execution_count": 12,
     "metadata": {},
     "output_type": "execute_result"
    }
   ],
   "source": [
    "data.tail()"
   ]
  },
  {
   "cell_type": "markdown",
   "metadata": {
    "cell_id": "00005-1fe772f4-903d-4d54-8910-76f88e743ae9",
    "deepnote_cell_type": "markdown",
    "id": "YkjHG__U_ABy"
   },
   "source": [
    "### Initial Exploration"
   ]
  },
  {
   "cell_type": "code",
   "execution_count": null,
   "metadata": {
    "cell_id": "00004-3d3cd60b-bdce-47e2-8ce7-bc9546ac98c0",
    "deepnote_cell_type": "code",
    "deepnote_to_be_reexecuted": false,
    "execution_millis": 0,
    "execution_start": 1615206898684,
    "source_hash": "1d2a21f0"
   },
   "outputs": [],
   "source": [
    "history = data.loc[data['Date']<='2015-12-31']\n",
    "test = data.loc[data['Date']>'2015-12-31']"
   ]
  },
  {
   "cell_type": "code",
   "execution_count": null,
   "metadata": {
    "cell_id": "00006-e2491a44-a4bc-4bd6-ac1c-ac7e6027dc82",
    "deepnote_cell_type": "code",
    "deepnote_to_be_reexecuted": false,
    "execution_millis": 2,
    "execution_start": 1615183906404,
    "source_hash": "93848dba",
    "tags": []
   },
   "outputs": [],
   "source": [
    "plt_history = history\n",
    "plt_history[\"Date\"] = pd.to_datetime(plt_history[\"Date\"])"
   ]
  },
  {
   "cell_type": "code",
   "execution_count": null,
   "metadata": {
    "cell_id": "00006-23e8dd1b-333b-4608-9827-69f24495dfc2",
    "colab": {
     "base_uri": "https://localhost:8080/",
     "height": 265
    },
    "deepnote_cell_type": "code",
    "deepnote_to_be_reexecuted": false,
    "execution_millis": 168,
    "execution_start": 1615183963031,
    "id": "WFNlx0La_GLs",
    "jupyter": {
     "source_hidden": true
    },
    "outputId": "b254c614-3757-413c-9235-a12fba995236",
    "source_hash": "1183812b",
    "tags": []
   },
   "outputs": [
    {
     "data": {
      "image/png": "[encoded data removed]",
      "text/plain": [
       "<Figure size 720x360 with 1 Axes>"
      ]
     },
     "metadata": {
      "needs_background": "light"
     },
     "output_type": "display_data"
    }
   ],
   "source": [
    "fig, ax = plt.subplots(figsize=(10,5))\n",
    "\n",
    "plt.plot(plt_history['Date'], plt_history['MedianSoldPrice_AllHomes.California'])\n",
    "\n",
    "ax.set_title(\"Median Sold Price in California (2008 - 2015): Before Differencing\")\n",
    "ax.spines['top'].set_visible(False)\n",
    "ax.spines['right'].set_visible(False)\n",
    "\n",
    "plt.show()"
   ]
  },
  {
   "cell_type": "code",
   "execution_count": null,
   "metadata": {
    "cell_id": "00007-c1b8be85-e17c-4035-95a0-293b425cf742",
    "colab": {
     "base_uri": "https://localhost:8080/",
     "height": 265
    },
    "deepnote_cell_type": "code",
    "deepnote_to_be_reexecuted": false,
    "execution_millis": 160,
    "execution_start": 1615183963437,
    "id": "MsHi7tFa_L1k",
    "jupyter": {
     "source_hidden": true
    },
    "outputId": "1d930d17-f06b-48ca-d6da-6edcd5c7a799",
    "source_hash": "466b0457",
    "tags": []
   },
   "outputs": [
    {
     "data": {
      "image/png": "[encoded data removed]",
      "text/plain": [
       "<Figure size 720x360 with 1 Axes>"
      ]
     },
     "metadata": {
      "needs_background": "light"
     },
     "output_type": "display_data"
    }
   ],
   "source": [
    "fig, ax = plt.subplots(figsize=(10,5))\n",
    "\n",
    "plt.plot(plt_history['Date'], plt_history['MedianMortageRate'],)\n",
    "\n",
    "ax.set_title(\"Median Mortgage Rate in California (2008 - 2015)\")\n",
    "ax.spines['top'].set_visible(False)\n",
    "ax.spines['right'].set_visible(False)\n",
    "\n",
    "plt.show()"
   ]
  },
  {
   "cell_type": "code",
   "execution_count": null,
   "metadata": {
    "cell_id": "00008-42da4a36-6643-4eac-8723-b89f6746129e",
    "colab": {
     "base_uri": "https://localhost:8080/",
     "height": 265
    },
    "deepnote_cell_type": "code",
    "deepnote_to_be_reexecuted": false,
    "execution_millis": 156,
    "execution_start": 1615183965266,
    "id": "DX7i2ivx_Ogp",
    "jupyter": {
     "source_hidden": true
    },
    "outputId": "821d61fe-9b47-44b0-9d5b-8bd837be1efd",
    "source_hash": "83ebd7ae",
    "tags": []
   },
   "outputs": [
    {
     "data": {
      "image/png": "[encoded data removed]",
      "text/plain": [
       "<Figure size 720x360 with 1 Axes>"
      ]
     },
     "metadata": {
      "needs_background": "light"
     },
     "output_type": "display_data"
    }
   ],
   "source": [
    "fig, ax = plt.subplots(figsize=(10,5))\n",
    "\n",
    "plt.plot(plt_history['Date'], plt_history['UnemploymentRate'],)\n",
    "\n",
    "ax.set_title(\"Unemployment Rate in California (2008 - 2015)\")\n",
    "ax.spines['top'].set_visible(False)\n",
    "ax.spines['right'].set_visible(False)\n",
    "\n",
    "plt.show()"
   ]
  },
  {
   "cell_type": "markdown",
   "metadata": {
    "cell_id": "00011-7081b754-1d56-4aca-b800-4ed952a2fae7",
    "deepnote_cell_type": "markdown",
    "id": "rKCrTDEoEfIj"
   },
   "source": [
    "### Missing Value Imputation"
   ]
  },
  {
   "cell_type": "code",
   "execution_count": null,
   "metadata": {
    "cell_id": "00010-c61af83d-f46f-4b97-988c-a7415cb2fbaf",
    "colab": {
     "base_uri": "https://localhost:8080/"
    },
    "deepnote_cell_type": "code",
    "deepnote_to_be_reexecuted": false,
    "execution_millis": 2,
    "execution_start": 1615183982197,
    "id": "V8TyxcB2_rq7",
    "outputId": "570cb41b-f3b9-4022-be1a-4642d398bf0a",
    "source_hash": "779971ac"
   },
   "outputs": [],
   "source": [
    "# median sold price \n",
    "price = history[['Date', 'MedianSoldPrice_AllHomes.California']].set_index('Date')['MedianSoldPrice_AllHomes.California']"
   ]
  },
  {
   "cell_type": "code",
   "execution_count": null,
   "metadata": {
    "cell_id": "00012-74b5813d-bfbd-447f-afd1-1d546d9101c5",
    "deepnote_cell_type": "code",
    "deepnote_to_be_reexecuted": false,
    "execution_millis": 14,
    "execution_start": 1615183982951,
    "source_hash": "56d19ce1"
   },
   "outputs": [],
   "source": [
    "history = history.dropna()"
   ]
  },
  {
   "cell_type": "code",
   "execution_count": null,
   "metadata": {
    "cell_id": "00013-e3decf95-38a9-4d3d-9e51-56e6663f7ccd",
    "colab": {
     "base_uri": "https://localhost:8080/"
    },
    "deepnote_cell_type": "code",
    "deepnote_to_be_reexecuted": false,
    "execution_millis": 9,
    "execution_start": 1615183983407,
    "id": "-omj2IcTEn3Z",
    "outputId": "0076bb28-2fa2-4fb8-e5a1-c78348f6df1c",
    "source_hash": "5dafcd55"
   },
   "outputs": [
    {
     "data": {
      "text/plain": [
       "(0, 95)"
      ]
     },
     "execution_count": 25,
     "metadata": {},
     "output_type": "execute_result"
    }
   ],
   "source": [
    "price.isnull().sum(), len(price)"
   ]
  },
  {
   "cell_type": "code",
   "execution_count": null,
   "metadata": {
    "cell_id": "00014-08d14233-5f45-46f0-bd0b-cad2e6902e15",
    "colab": {
     "base_uri": "https://localhost:8080/"
    },
    "deepnote_cell_type": "code",
    "deepnote_to_be_reexecuted": false,
    "execution_millis": 9,
    "execution_start": 1615183983748,
    "id": "7W3jO9icLM5R",
    "outputId": "b49ddca4-d9d6-497f-ea36-9119fdff324b",
    "source_hash": "8d347c02"
   },
   "outputs": [
    {
     "data": {
      "text/plain": [
       "0"
      ]
     },
     "execution_count": 26,
     "metadata": {},
     "output_type": "execute_result"
    }
   ],
   "source": [
    "# get rid of nan value\n",
    "new_price = price[price.isnull() == False]\n",
    "new_price.isnull().sum()"
   ]
  },
  {
   "cell_type": "markdown",
   "metadata": {
    "cell_id": "00015-2b6f81d9-b304-4753-8858-e7a729052db3",
    "deepnote_cell_type": "markdown"
   },
   "source": [
    "### AD Fuller Test\n",
    "\n",
    "The series fails the ADfuller test, suggesting that it is not stationary. "
   ]
  },
  {
   "cell_type": "code",
   "execution_count": null,
   "metadata": {
    "cell_id": "00016-28328cfe-ef4d-4602-9f7c-0cf82b9c2ad7",
    "deepnote_cell_type": "code",
    "deepnote_to_be_reexecuted": false,
    "execution_millis": 20,
    "execution_start": 1615183985244,
    "source_hash": "7751ff55"
   },
   "outputs": [
    {
     "name": "stdout",
     "output_type": "stream",
     "text": [
      "Test Statistic   -0.058792\n",
      "p-value           0.953391\n",
      "dtype: float64\n"
     ]
    }
   ],
   "source": [
    "dftest = adfuller(new_price)\n",
    "dfoutput = pd.Series(dftest[0:2], index=['Test Statistic','p-value'])\n",
    "print (dfoutput)"
   ]
  },
  {
   "cell_type": "markdown",
   "metadata": {
    "cell_id": "00017-24e4853a-32a2-4d87-8cad-93d65fec74ac",
    "deepnote_cell_type": "markdown",
    "id": "-Xe0CJY0MNTX"
   },
   "source": [
    "### ACF & PACF plots "
   ]
  },
  {
   "cell_type": "code",
   "execution_count": null,
   "metadata": {
    "cell_id": "00018-d3d215e8-ca95-4ae5-8366-4ed47434c2f2",
    "colab": {
     "base_uri": "https://localhost:8080/",
     "height": 281
    },
    "deepnote_cell_type": "code",
    "deepnote_to_be_reexecuted": false,
    "execution_millis": 226,
    "execution_start": 1615183986445,
    "id": "Qi5MfxTrE4qi",
    "outputId": "163e7f1f-ec1e-45a5-a3ef-c44f479bd251",
    "source_hash": "c31d1c63"
   },
   "outputs": [
    {
     "data": {
      "image/png": "[encoded data removed]",
      "text/plain": [
       "<Figure size 432x288 with 1 Axes>"
      ]
     },
     "metadata": {
      "needs_background": "light"
     },
     "output_type": "display_data"
    }
   ],
   "source": [
    "# larger lags - see the general trend\n",
    "plot_acf(new_price,lags=94) \n",
    "\n",
    "plt.show()"
   ]
  },
  {
   "cell_type": "code",
   "execution_count": null,
   "metadata": {
    "cell_id": "00019-f5db7e8c-8fae-4377-9601-8fc2fcb72d09",
    "colab": {
     "base_uri": "https://localhost:8080/",
     "height": 281
    },
    "deepnote_cell_type": "code",
    "deepnote_to_be_reexecuted": false,
    "execution_millis": 217,
    "execution_start": 1615183987637,
    "id": "pIvutTuhLzv_",
    "outputId": "2bb99eb2-d849-4d51-b66c-8d75f46c00c5",
    "source_hash": "261d3efb"
   },
   "outputs": [
    {
     "data": {
      "image/png": "[encoded data removed]",
      "text/plain": [
       "<Figure size 432x288 with 1 Axes>"
      ]
     },
     "metadata": {
      "needs_background": "light"
     },
     "output_type": "display_data"
    }
   ],
   "source": [
    "# smaller lags - zoom in to see the seasonality\n",
    "plot_acf(new_price,lags=30) \n",
    "plt.show()"
   ]
  },
  {
   "cell_type": "code",
   "execution_count": null,
   "metadata": {
    "cell_id": "00020-3986fdd5-b295-4f6f-b223-5addaf109e63",
    "colab": {
     "base_uri": "https://localhost:8080/",
     "height": 281
    },
    "deepnote_cell_type": "code",
    "deepnote_to_be_reexecuted": false,
    "execution_millis": 274,
    "execution_start": 1615183988449,
    "id": "Z3Dpj0onFPMk",
    "outputId": "10b3405a-3c84-4044-b295-da3788ee5b20",
    "source_hash": "6231a304"
   },
   "outputs": [
    {
     "data": {
      "image/png": "[encoded data removed]",
      "text/plain": [
       "<Figure size 432x288 with 1 Axes>"
      ]
     },
     "metadata": {
      "needs_background": "light"
     },
     "output_type": "display_data"
    }
   ],
   "source": [
    "plot_pacf(new_price,lags=35) \n",
    "plt.show()"
   ]
  },
  {
   "cell_type": "markdown",
   "metadata": {
    "cell_id": "00021-fd2cf877-f03e-4d7b-9225-3e959f566f1b",
    "deepnote_cell_type": "markdown",
    "id": "l-wrWwdMKloY"
   },
   "source": [
    "### Differencing d=2 "
   ]
  },
  {
   "cell_type": "code",
   "execution_count": null,
   "metadata": {
    "cell_id": "00022-b62febc3-c5de-4bfb-82bc-5de4fcf1c3c4",
    "deepnote_cell_type": "code",
    "deepnote_to_be_reexecuted": false,
    "execution_millis": 2,
    "execution_start": 1615183989890,
    "id": "7OCDNAVnKkaR",
    "source_hash": "468815aa"
   },
   "outputs": [],
   "source": [
    "def diff(data, interval=1):\n",
    "    diff = list()\n",
    "    for i in range(interval, len(data)):\n",
    "        value = data[i] - data[i - interval]\n",
    "        diff.append(value)\n",
    "    return diff"
   ]
  },
  {
   "cell_type": "code",
   "execution_count": null,
   "metadata": {
    "cell_id": "00023-adef2a38-25bf-498e-862c-1ee45071eaf6",
    "deepnote_cell_type": "code",
    "deepnote_to_be_reexecuted": false,
    "execution_millis": 2,
    "execution_start": 1615183990499,
    "id": "NIswtpbRKphK",
    "source_hash": "17f04388"
   },
   "outputs": [],
   "source": [
    "# detrend\n",
    "# looks like it's in shape of a quadratic function\n",
    "d2 = diff(new_price, 2)"
   ]
  },
  {
   "cell_type": "code",
   "execution_count": null,
   "metadata": {
    "cell_id": "00024-bc8489b4-4c98-43c9-ac9b-0cba22dd4c99",
    "colab": {
     "base_uri": "https://localhost:8080/",
     "height": 265
    },
    "deepnote_cell_type": "code",
    "deepnote_to_be_reexecuted": false,
    "execution_millis": 125,
    "execution_start": 1615183991578,
    "id": "PnbN1vEAK37O",
    "outputId": "751ba655-a091-48e5-b048-e37ec491a52b",
    "source_hash": "33b7b328",
    "tags": []
   },
   "outputs": [
    {
     "data": {
      "image/png": "[encoded data removed]",
      "text/plain": [
       "<Figure size 432x288 with 1 Axes>"
      ]
     },
     "metadata": {
      "needs_background": "light"
     },
     "output_type": "display_data"
    }
   ],
   "source": [
    "plt.plot(d2)\n",
    "plt.show()"
   ]
  },
  {
   "cell_type": "code",
   "execution_count": null,
   "metadata": {
    "cell_id": "00027-b0651dbc-f11a-4055-aedf-df8b4996ffd4",
    "deepnote_cell_type": "code",
    "deepnote_to_be_reexecuted": false,
    "execution_millis": 145,
    "execution_start": 1615184730934,
    "source_hash": "7c235ed0",
    "tags": []
   },
   "outputs": [
    {
     "data": {
      "image/png": "[encoded data removed]",
      "text/plain": [
       "<Figure size 720x360 with 1 Axes>"
      ]
     },
     "metadata": {
      "needs_background": "light"
     },
     "output_type": "display_data"
    }
   ],
   "source": [
    "d2_history = plt_history.drop([94,93])\n",
    "d2_history['d2'] = d2\n",
    "\n",
    "fig, ax = plt.subplots(figsize=(10,5))\n",
    "\n",
    "ax.set_title(\"After Differencing Twice\")\n",
    "\n",
    "plt.plot(d2_history['Date'], d2_history['d2'])\n",
    "\n",
    "ax.spines['top'].set_visible(False)\n",
    "ax.spines['right'].set_visible(False)\n",
    "\n",
    "plt.show()\n"
   ]
  },
  {
   "cell_type": "code",
   "execution_count": null,
   "metadata": {
    "cell_id": "00025-c6e20c69-4789-41d6-b770-e3346592f277",
    "colab": {
     "base_uri": "https://localhost:8080/",
     "height": 281
    },
    "deepnote_cell_type": "code",
    "deepnote_to_be_reexecuted": false,
    "execution_millis": 203,
    "execution_start": 1615183992370,
    "id": "hiVutjJPMcXH",
    "outputId": "f1efea97-8386-4bef-f202-f80f2ccbdc8e",
    "source_hash": "92f30810"
   },
   "outputs": [
    {
     "data": {
      "image/png": "[encoded data removed]",
      "text/plain": [
       "<Figure size 432x288 with 1 Axes>"
      ]
     },
     "metadata": {
      "needs_background": "light"
     },
     "output_type": "display_data"
    }
   ],
   "source": [
    "# larger lags - see the general trend\n",
    "plot_acf(d2,lags=90) \n",
    "plt.show()"
   ]
  },
  {
   "cell_type": "code",
   "execution_count": null,
   "metadata": {
    "cell_id": "00026-7e0f2e9a-1788-4c24-a463-bde253ffcf47",
    "colab": {
     "base_uri": "https://localhost:8080/",
     "height": 281
    },
    "deepnote_cell_type": "code",
    "deepnote_to_be_reexecuted": false,
    "execution_millis": 229,
    "execution_start": 1614924384022,
    "id": "CZvOAyw0LbG4",
    "outputId": "1d618acf-b08a-4dcd-a2c1-3fc54a3ef751",
    "source_hash": "5b59e99f"
   },
   "outputs": [
    {
     "data": {
      "image/png": "[encoded data removed]",
      "text/plain": [
       "<Figure size 432x288 with 1 Axes>"
      ]
     },
     "metadata": {
      "needs_background": "light"
     },
     "output_type": "display_data"
    }
   ],
   "source": [
    "# smaller lags - zoom in to see the seasonality\n",
    "# looks like there's a pattern repeating every 12/13 months (yearly)\n",
    "plot_acf(d2,lags=30) \n",
    "plt.show()"
   ]
  },
  {
   "cell_type": "code",
   "execution_count": null,
   "metadata": {
    "cell_id": "00027-49c3faf1-cefc-4aad-829f-152350369667",
    "colab": {
     "base_uri": "https://localhost:8080/",
     "height": 281
    },
    "deepnote_cell_type": "code",
    "deepnote_to_be_reexecuted": false,
    "execution_millis": 291,
    "execution_start": 1614924384871,
    "id": "57RXCpo_K8Vl",
    "outputId": "e95a4f38-7582-4b4f-dd2b-5a9452ae0e1c",
    "source_hash": "189ce4b6"
   },
   "outputs": [
    {
     "data": {
      "image/png": "[encoded data removed]",
      "text/plain": [
       "<Figure size 432x288 with 1 Axes>"
      ]
     },
     "metadata": {
      "needs_background": "light"
     },
     "output_type": "display_data"
    }
   ],
   "source": [
    "plot_pacf(d2,lags=30) \n",
    "plt.show()"
   ]
  },
  {
   "cell_type": "code",
   "execution_count": null,
   "metadata": {
    "cell_id": "00028-25193b49-562b-4aed-906d-a02efb127e9b",
    "colab": {
     "base_uri": "https://localhost:8080/"
    },
    "deepnote_cell_type": "code",
    "deepnote_to_be_reexecuted": false,
    "execution_millis": 15,
    "execution_start": 1614924385653,
    "id": "ynX31egKNWy3",
    "outputId": "3526fa25-b60b-4616-eae9-0f15f9d31138",
    "source_hash": "e1fc4f68"
   },
   "outputs": [
    {
     "name": "stdout",
     "output_type": "stream",
     "text": [
      "Test Statistic   -3.374527\n",
      "p-value           0.011859\n",
      "dtype: float64\n"
     ]
    }
   ],
   "source": [
    "# stationary after differencing. now d = 2\n",
    "dftest = adfuller(d2)\n",
    "dfoutput = pd.Series(dftest[0:2], index=['Test Statistic','p-value'])\n",
    "print (dfoutput)"
   ]
  },
  {
   "cell_type": "markdown",
   "metadata": {},
   "source": [
    "# Part 2: Candidate Models "
   ]
  },
  {
   "cell_type": "markdown",
   "metadata": {
    "cell_id": "00029-5ad7bab0-ffc5-4710-a516-b40b65f11d36",
    "deepnote_cell_type": "markdown",
    "id": "i9-SxwijNqWA"
   },
   "source": [
    "### Candidate 1: ARIMA(0,2,1) from BIC"
   ]
  },
  {
   "cell_type": "code",
   "execution_count": null,
   "metadata": {
    "cell_id": "00030-35114a5a-3dd2-4d8f-95fb-8645227721d2",
    "colab": {
     "base_uri": "https://localhost:8080/"
    },
    "deepnote_cell_type": "code",
    "deepnote_to_be_reexecuted": false,
    "execution_millis": 11372,
    "execution_start": 1615185685087,
    "id": "o25BSKHNNh5X",
    "outputId": "06fcce98-321f-4e00-dc6d-2ca6bfa4863d",
    "source_hash": "c6de8ed6"
   },
   "outputs": [
    {
     "data": {
      "text/plain": [
       "{'bic':              0            1            2            3            4\n",
       " 0  2058.976467  2018.274484  2021.748940  2024.332590  2022.787571\n",
       " 1  2041.645265  2021.601274  2029.046346  2026.473520  2029.023613\n",
       " 2  2045.230711  2026.054722  2037.541296  2025.922248  2027.405269\n",
       " 3  2038.557227  2021.044840          NaN          NaN          NaN\n",
       " 4  2031.617309  2025.067473  2032.732071          NaN  2053.380600,\n",
       " 'bic_min_order': (0, 1)}"
      ]
     },
     "execution_count": 39,
     "metadata": {},
     "output_type": "execute_result"
    }
   ],
   "source": [
    "from statsmodels.tsa.stattools import arma_order_select_ic\n",
    "arma_order_select_ic(d2,max_ar=4, max_ma=4, ic='bic')"
   ]
  },
  {
   "cell_type": "code",
   "execution_count": null,
   "metadata": {
    "cell_id": "00031-31b9c44f-0292-4119-991f-7239b6a37edf",
    "colab": {
     "base_uri": "https://localhost:8080/"
    },
    "deepnote_cell_type": "code",
    "deepnote_to_be_reexecuted": false,
    "execution_millis": 1642,
    "execution_start": 1614924399171,
    "id": "lBrObGFWTb2L",
    "outputId": "fbf09e0a-762d-4bdb-8b82-8cd66aaef502",
    "source_hash": "82ed98ae"
   },
   "outputs": [
    {
     "data": {
      "text/plain": [
       "10323.72428355811"
      ]
     },
     "execution_count": 25,
     "metadata": {},
     "output_type": "execute_result"
    }
   ],
   "source": [
    "rmse_sarima(new_price, (0,2,1), (0,0,0,0), 0.8)"
   ]
  },
  {
   "cell_type": "code",
   "execution_count": null,
   "metadata": {
    "cell_id": "00032-4d8d1485-20d0-4c28-9aa4-f6d79b151cb0",
    "deepnote_cell_type": "code",
    "deepnote_to_be_reexecuted": false,
    "execution_millis": 3,
    "execution_start": 1614924400859,
    "id": "we2Ljeeyc3lp",
    "source_hash": "5c061cb0"
   },
   "outputs": [],
   "source": [
    "split_size = 0.8\n",
    "def plot_res(X, trend_order, seasonal_order, split_size): #added split_size\n",
    "    train_size = int(len(X) * split_size)\n",
    "    train, test = X[0:train_size], X[train_size:]\n",
    "    history = [x for x in train]\n",
    "    predictions = list()\n",
    "    for t in range(len(test)):\n",
    "        model = sm.tsa.statespace.SARIMAX(history, order=trend_order,seasonal_order=seasonal_order)\n",
    "        res = model.fit()\n",
    "        yhat = res.predict(start=len(history), end=len(history)) #predict one step\n",
    "        predictions.append(yhat) #store prediction\n",
    "        history.append(test[t]) #store observation\n",
    "        # calculate out of sample error\n",
    "    plt.plot(test,label='Actural prices')\n",
    "    plt.plot(predictions,label='Predicted prices')\n",
    "    plt.show()"
   ]
  },
  {
   "cell_type": "code",
   "execution_count": null,
   "metadata": {
    "cell_id": "00033-037d9825-14de-49fb-8289-fbf82dfec66d",
    "colab": {
     "base_uri": "https://localhost:8080/",
     "height": 319
    },
    "deepnote_cell_type": "code",
    "id": "43FXiTVidrZL",
    "outputId": "5f6d8733-4782-45c4-8a0e-2f4923e12edc"
   },
   "outputs": [
    {
     "data": {
      "image/png": "[encoded data removed]",
      "text/plain": [
       "<Figure size 432x288 with 1 Axes>"
      ]
     },
     "metadata": {
      "needs_background": "light"
     },
     "output_type": "display_data"
    }
   ],
   "source": [
    "plot_res(new_price, (0,2,1), (0,0,0,0), 0.8)"
   ]
  },
  {
   "cell_type": "markdown",
   "metadata": {
    "cell_id": "00034-820be4d9-30f3-4c0b-8844-36f9dfab3671",
    "deepnote_cell_type": "markdown",
    "id": "dtREmYWvOHui"
   },
   "source": [
    "### Candidate 2: ARIMA(3,2,1) from AIC"
   ]
  },
  {
   "cell_type": "code",
   "execution_count": null,
   "metadata": {
    "cell_id": "00035-34cfa9b1-455e-4dd4-9fa7-f021ef1a717a",
    "colab": {
     "base_uri": "https://localhost:8080/"
    },
    "deepnote_cell_type": "code",
    "id": "NLEqiHv4OKx_",
    "outputId": "5c096b98-15a3-41ad-f251-a896e84ef916"
   },
   "outputs": [
    {
     "data": {
      "text/plain": [
       "{'aic':              0            1            2            3            4\n",
       " 0  2053.911268  2010.676711  2011.621299  2011.669615  2007.592005\n",
       " 1  2034.047505  2011.470878          NaN  2011.277155  2011.295193\n",
       " 2  2035.100349  2013.391575  2022.249469  2008.194080  2007.144465\n",
       " 3  2025.895165  2005.849243  2010.037619          NaN          NaN\n",
       " 4  2016.421452  2007.339276  2012.498548          NaN  2027.895818,\n",
       " 'aic_min_order': (3, 1)}"
      ]
     },
     "execution_count": 41,
     "metadata": {},
     "output_type": "execute_result"
    }
   ],
   "source": [
    "arma_order_select_ic(d2,max_ar=4, max_ma=4, ic='aic')"
   ]
  },
  {
   "cell_type": "code",
   "execution_count": null,
   "metadata": {
    "cell_id": "00036-cbf5f19c-7a54-4193-a2e8-1ee2bd5ec05d",
    "colab": {
     "base_uri": "https://localhost:8080/"
    },
    "deepnote_cell_type": "code",
    "id": "O2HjXuMLTquc",
    "outputId": "3e5bf90e-7980-4a2b-9219-3d0e4b7faa69"
   },
   "outputs": [
    {
     "data": {
      "text/plain": [
       "10659.712825971683"
      ]
     },
     "execution_count": 42,
     "metadata": {},
     "output_type": "execute_result"
    }
   ],
   "source": [
    "rmse_sarima(new_price, (3,2,1), (0,0,0,0), 0.8)"
   ]
  },
  {
   "cell_type": "code",
   "execution_count": null,
   "metadata": {
    "cell_id": "00037-528b248f-12c8-45d6-baf7-5be6e29a38a1",
    "colab": {
     "base_uri": "https://localhost:8080/",
     "height": 319
    },
    "deepnote_cell_type": "code",
    "id": "3MGAndKNdxvU",
    "outputId": "b6a520b7-adec-44fd-b1aa-2295128a1181"
   },
   "outputs": [
    {
     "data": {
      "image/png": "[encoded data removed]",
      "text/plain": [
       "<Figure size 432x288 with 1 Axes>"
      ]
     },
     "metadata": {
      "needs_background": "light"
     },
     "output_type": "display_data"
    }
   ],
   "source": [
    "plot_res(new_price, (3,2,1), (0,0,0,0), 0.8)"
   ]
  },
  {
   "cell_type": "markdown",
   "metadata": {
    "cell_id": "00038-caf87563-9317-4a91-b5b5-e343f8eb2d3d",
    "deepnote_cell_type": "markdown",
    "id": "ddnHlif0O6Dv"
   },
   "source": [
    "### Candidate 3: SARIMA(0, 2, 1), (3, 1, 0, 12) from grid search"
   ]
  },
  {
   "cell_type": "code",
   "execution_count": null,
   "metadata": {
    "cell_id": "00039-8bfd30bc-304c-469f-bb8f-da411859fa41",
    "deepnote_cell_type": "code",
    "deepnote_to_be_reexecuted": false,
    "execution_millis": 1,
    "execution_start": 1615208144329,
    "id": "n6I6oqfdOv0b",
    "source_hash": "67db3e86"
   },
   "outputs": [],
   "source": [
    "def rmse_sarima(X, trend_order, seasonal_order, split_size): #added split_size\n",
    "    train_size = int(len(X) * split_size)\n",
    "    train, test = X[0:train_size], X[train_size:]\n",
    "    history = [x for x in train]\n",
    "    predictions = list()\n",
    "    for t in range(len(test)):\n",
    "        model = sm.tsa.statespace.SARIMAX(history, order=trend_order,seasonal_order=seasonal_order)\n",
    "        res = model.fit()\n",
    "        yhat = res.predict(start=len(history), end=len(history)) #predict one step\n",
    "        predictions.append(yhat) #store prediction\n",
    "        history.append(test[t]) #store observation\n",
    "        # calculate out of sample error\n",
    "    rmse = sqrt(mean_squared_error(test, predictions))\n",
    "    return rmse\n",
    "\n",
    "def evaluate_rmse_sarima(data, p_values,d_values,q_values,P_values,Q_values,m, D=1):\n",
    "    best_score, best_order, best_seasonal_order = float(\"inf\"), None, None\n",
    "    for p in p_values:\n",
    "        for d in d_values:\n",
    "            for q in q_values:\n",
    "                    for P in P_values:\n",
    "                            for Q in Q_values:\n",
    "                                order=(p,d,q)\n",
    "                                seasonal_order=(P,D,Q,m)\n",
    "                                try:\n",
    "                                    rmse=rmse_sarima(data,trend_order=order, seasonal_order=seasonal_order, split_size=0.8)                                \n",
    "                                    if best_score is None or rmse < best_score:\n",
    "                                        best_score, best_order, best_seasonal_order=rmse, order,seasonal_order\n",
    "                                except:\n",
    "                                    continue\n",
    "\n",
    "    print((best_score, best_order, best_seasonal_order))"
   ]
  },
  {
   "cell_type": "code",
   "execution_count": null,
   "metadata": {
    "cell_id": "00040-dd5f8033-a571-458a-bc67-aaff6755da3a",
    "colab": {
     "base_uri": "https://localhost:8080/",
     "height": 198
    },
    "deepnote_cell_type": "code",
    "deepnote_to_be_reexecuted": false,
    "execution_millis": 40158866,
    "execution_start": 1614924406565,
    "id": "rNAfTtJNPTov",
    "outputId": "93c65eb7-6739-44e4-a23d-75e089f613e5",
    "source_hash": "5e2cd62e"
   },
   "outputs": [
    {
     "name": "stdout",
     "output_type": "stream",
     "text": [
      "(9522.790671931016, (0, 2, 1), (3, 1, 0, 12))\n"
     ]
    }
   ],
   "source": [
    "# takes a looooong time to run\n",
    "p_values = [0,1,2,3]\n",
    "q_values = [0,1,2,3]\n",
    "d_values=[2]\n",
    "m = 12\n",
    "Q_values=[0,1,2,3]\n",
    "P_values=[0,1,2,3]\n",
    "evaluate_rmse_sarima(new_price, p_values,d_values,q_values,P_values,Q_values,m, D=1)"
   ]
  },
  {
   "cell_type": "markdown",
   "metadata": {
    "cell_id": "00041-bb770f19-b81d-4e08-9c1b-809d9eda2fd5",
    "deepnote_cell_type": "markdown",
    "id": "TJ4yzZuFVbW3"
   },
   "source": [
    "### Candidate 4: trend: None, seasonality: additive from ETS"
   ]
  },
  {
   "cell_type": "code",
   "execution_count": null,
   "metadata": {
    "cell_id": "00042-dbd2e02a-7999-426e-a5d8-85d4f8a10831",
    "deepnote_cell_type": "code",
    "id": "8b7WaFJdTLPw"
   },
   "outputs": [],
   "source": [
    "def evaluate_ETS(X, Trend, Seasonal, m, dampen=True):\n",
    "    if Trend is None:\n",
    "        dampen = False\n",
    "    train_size = int(len(X)*0.8)\n",
    "    train, test = X[0:train_size], X[train_size:]\n",
    "    history = [x for x in train]\n",
    "    predictions = list()\n",
    "    for t in range(len(test)):\n",
    "        model = ExponentialSmoothing(history, trend=Trend,seasonal=Seasonal,seasonal_periods=m, damped=dampen)\n",
    "        res = model.fit()\n",
    "        yhat = res.forecast()[0]\n",
    "        predictions.append(yhat)\n",
    "        history.append(test[t])\n",
    "    rmse = sqrt(mean_squared_error(test, predictions))\n",
    "    return rmse\n",
    "\n",
    "def search_param(data, trends, seasonality, m):\n",
    "    curMin = None\n",
    "    curMin_param = (None, None)\n",
    "    for trend in trends:\n",
    "        for season in seasonality:\n",
    "            rmse = evaluate_ETS(data, trend, season, m)\n",
    "            print(trend, season, rmse)\n",
    "            if curMin is None or rmse < curMin:\n",
    "                curMin = rmse\n",
    "                curMin_param = (trend, season)\n",
    "\n",
    "    print('lowest rmse:', curMin, 'trend:', curMin_param[0], 'seasonality:', curMin_param[1] )"
   ]
  },
  {
   "cell_type": "code",
   "execution_count": null,
   "metadata": {
    "cell_id": "00043-108e2b2b-2d19-4062-860f-0a107ecb4593",
    "colab": {
     "base_uri": "https://localhost:8080/"
    },
    "deepnote_cell_type": "code",
    "id": "SBOmksPiVq1K",
    "outputId": "2a904dff-c845-4f29-dcca-e767399f52ff"
   },
   "outputs": [
    {
     "name": "stdout",
     "output_type": "stream",
     "text": [
      "None add 10385.301142457125\n",
      "None mul 10759.152129921094\n",
      "mul add 2.676292693520865e+53\n",
      "mul mul 10417.362449996284\n",
      "add add 11234.07280467184\n",
      "add mul 11052.810060011167\n",
      "lowest rmse: 10385.301142457125 trend: None seasonality: add\n"
     ]
    }
   ],
   "source": [
    "m = 12\n",
    "trends = [None, 'mul', 'add']\n",
    "seasonality = ['add', 'mul']\n",
    "search_param(new_price, trends, seasonality, m)"
   ]
  },
  {
   "cell_type": "code",
   "execution_count": null,
   "metadata": {
    "cell_id": "00044-4edf127f-c97f-4deb-90b5-344149d5532e",
    "deepnote_cell_type": "code",
    "id": "cLHjOFO2kHps"
   },
   "outputs": [],
   "source": [
    "def plot_res_ets(X, Trend, Seasonal, m, dampen=True): #added split_size\n",
    "    train_size = int(len(X) * 0.8)\n",
    "    train, test = X[0:train_size], X[train_size:]\n",
    "    history = [x for x in train]\n",
    "    predictions = list()\n",
    "    for t in range(len(test)):\n",
    "        model = ExponentialSmoothing(history, trend=Trend,seasonal=Seasonal,seasonal_periods=m, damped=dampen)\n",
    "        res = model.fit()\n",
    "        yhat = res.predict(start=len(history), end=len(history)) #predict one step\n",
    "        predictions.append(yhat) #store prediction\n",
    "        history.append(test[t]) #store observation\n",
    "        # calculate out of sample error\n",
    "    plt.plot(test,label='Actural prices')\n",
    "    plt.plot(predictions,label='Predicted prices')\n",
    "    plt.show()"
   ]
  },
  {
   "cell_type": "code",
   "execution_count": null,
   "metadata": {
    "cell_id": "00045-ded67338-ab8b-4ca6-82be-fef4604f7fb6",
    "colab": {
     "base_uri": "https://localhost:8080/",
     "height": 319
    },
    "deepnote_cell_type": "code",
    "id": "vh0cHNNJkr0S",
    "outputId": "6ab6b323-6122-4f96-d786-e16e1a2bc66e"
   },
   "outputs": [
    {
     "name": "stderr",
     "output_type": "stream",
     "text": [
      "INFO:matplotlib.category:Using categorical units to plot a list of strings that are all parsable as floats or dates. If these strings should be plotted as numbers, cast to the appropriate data type before plotting.\n",
      "INFO:matplotlib.category:Using categorical units to plot a list of strings that are all parsable as floats or dates. If these strings should be plotted as numbers, cast to the appropriate data type before plotting.\n"
     ]
    },
    {
     "data": {
      "image/png": "[encoded data removed]",
      "text/plain": [
       "<Figure size 432x288 with 1 Axes>"
      ]
     },
     "metadata": {
      "needs_background": "light",
      "tags": []
     },
     "output_type": "display_data"
    }
   ],
   "source": [
    "warnings.filterwarnings(\"ignore\")\n",
    "\n",
    "plot_res_ets(new_price, None, 'add', 12, dampen=False)"
   ]
  },
  {
   "cell_type": "markdown",
   "metadata": {
    "cell_id": "00046-311eda29-0232-412f-a561-982f2f4b1c6f",
    "deepnote_cell_type": "markdown",
    "id": "13CqIKouV6pZ"
   },
   "source": [
    "### Candidate 5: Prophet\n",
    "yearly additive seasonality\n",
    "RMSE = 37380.18"
   ]
  },
  {
   "cell_type": "code",
   "execution_count": null,
   "metadata": {
    "cell_id": "00047-3cd10d6c-62e6-4922-8dba-07f93344084e",
    "colab": {
     "base_uri": "https://localhost:8080/",
     "height": 204
    },
    "deepnote_cell_type": "code",
    "id": "WKtXOkwQV6JZ",
    "outputId": "6530e306-66a1-48d9-b404-b4b313fa5818"
   },
   "outputs": [],
   "source": [
    "prophet_df = pd.DataFrame(new_price).reset_index().rename(columns={\"Date\": \"ds\", \"MedianSoldPrice_AllHomes.California\": \"y\"})"
   ]
  },
  {
   "cell_type": "code",
   "execution_count": null,
   "metadata": {
    "cell_id": "00048-c0dc0f41-e855-4d59-835c-1ea42c148f9f",
    "deepnote_cell_type": "code"
   },
   "outputs": [],
   "source": [
    "#add holidays and weekly seasonality\n",
    "import holidays\n",
    "holiday = pd.DataFrame([])\n",
    "for date, name in sorted(holidays.UnitedStates(years=[2018,2019,2020]).items()):\n",
    "    holiday = holiday.append(pd.DataFrame({'ds': date, 'holiday': \"US-Holidays\"}, index=[0]), ignore_index=True)\n",
    "holiday['ds'] = pd.to_datetime(holiday['ds'], format='%Y-%m-%d', errors='ignore')"
   ]
  },
  {
   "cell_type": "code",
   "execution_count": null,
   "metadata": {
    "cell_id": "00049-0f61c059-d32e-46cb-a759-e3e3dfd19420",
    "deepnote_cell_type": "code",
    "id": "fiBU_OifaRAY"
   },
   "outputs": [],
   "source": [
    "train_size = int(len(prophet_df)*0.8)\n",
    "train, validation = prophet_df.iloc[0:train_size,:], prophet_df.iloc[train_size:,:]"
   ]
  },
  {
   "cell_type": "code",
   "execution_count": null,
   "metadata": {
    "cell_id": "00050-9da983de-7a66-4e2d-b26a-dbf78c236de6",
    "deepnote_cell_type": "code"
   },
   "outputs": [],
   "source": [
    "validation_dates = validation['ds']"
   ]
  },
  {
   "cell_type": "code",
   "execution_count": null,
   "metadata": {
    "cell_id": "00051-3007d5c6-20a4-4787-b656-9f8fb3cd0085",
    "colab": {
     "base_uri": "https://localhost:8080/"
    },
    "deepnote_cell_type": "code",
    "id": "gecI8u2eaiA6",
    "outputId": "ba7e8637-ba4f-48d0-aef6-64252a33ad9f"
   },
   "outputs": [],
   "source": [
    "m = Prophet(holidays=holiday,\n",
    "            yearly_seasonality=True, \n",
    "            seasonality_mode='additive', \n",
    "            weekly_seasonality=False, \n",
    "            daily_seasonality=False)\n",
    "m.add_seasonality(name='yearly', period=12, fourier_order=5)\n",
    "model = m.fit(train)"
   ]
  },
  {
   "cell_type": "code",
   "execution_count": null,
   "metadata": {
    "cell_id": "00052-fa6b2fc7-84ac-4de7-8997-176489648ca7",
    "deepnote_cell_type": "code"
   },
   "outputs": [],
   "source": [
    "future = m.make_future_dataframe(periods=validation.shape[0], freq='M')\n",
    "forecast = m.predict(future)"
   ]
  },
  {
   "cell_type": "code",
   "execution_count": null,
   "metadata": {
    "cell_id": "00053-57d7f179-ac1e-4b3a-8023-a0a4fa04e756",
    "deepnote_cell_type": "code"
   },
   "outputs": [],
   "source": [
    "validation['ds'] = pd.to_datetime(validation['ds'])\n",
    "train['ds'] = pd.to_datetime(train['ds'])"
   ]
  },
  {
   "cell_type": "code",
   "execution_count": null,
   "metadata": {
    "cell_id": "00054-46d63e55-d38b-477e-b935-980261b881eb",
    "deepnote_cell_type": "code"
   },
   "outputs": [
    {
     "data": {
      "image/png": "[encoded data removed]",
      "text/plain": [
       "<Figure size 1008x360 with 1 Axes>"
      ]
     },
     "metadata": {
      "needs_background": "light"
     },
     "output_type": "display_data"
    }
   ],
   "source": [
    "pred = forecast[['ds', \"yhat\"]].tail(len(validation))\n",
    "\n",
    "pd.plotting.register_matplotlib_converters()\n",
    "f, ax = plt.subplots(figsize=(14,5))\n",
    "\n",
    "train.plot(kind='line', x='ds', y='y', color='blue', label='Train', ax=ax)\n",
    "validation.plot(kind='line', x='ds', y='y', color='red', label='Validation', ax=ax)\n",
    "pred.plot(kind='line', x='ds', y='yhat', color='purple', label='Pred', ax=ax)\n",
    "plt.title('Mean Sales Price Traning and Test data')\n",
    "\n",
    "plt.show()"
   ]
  },
  {
   "cell_type": "code",
   "execution_count": null,
   "metadata": {
    "cell_id": "00055-c16c60f8-eec6-4705-bd43-7b3ac78b08da",
    "deepnote_cell_type": "code"
   },
   "outputs": [
    {
     "data": {
      "text/plain": [
       "37380.181570602326"
      ]
     },
     "execution_count": 240,
     "metadata": {},
     "output_type": "execute_result"
    }
   ],
   "source": [
    "rmse = sqrt(mean_squared_error(validation['y'], pred['yhat']))\n",
    "rmse"
   ]
  },
  {
   "cell_type": "markdown",
   "metadata": {
    "cell_id": "00056-c3913d2e-5f11-44fb-bd39-40c8f75c32a0",
    "deepnote_cell_type": "markdown"
   },
   "source": [
    "### Candidate 6:  SARIMAX Model - Median Mortgage Rate as Exogenous "
   ]
  },
  {
   "cell_type": "code",
   "execution_count": null,
   "metadata": {
    "cell_id": "00057-3c5514e5-1601-4ef4-87d2-9e2894c096d4",
    "deepnote_cell_type": "code"
   },
   "outputs": [],
   "source": [
    "history_sarimax = history[['Date', 'MedianSoldPrice_AllHomes.California','MedianMortageRate','UnemploymentRate']]"
   ]
  },
  {
   "cell_type": "code",
   "execution_count": null,
   "metadata": {
    "cell_id": "00058-ae4dbc4e-c959-4d83-b2e4-0e05f1277c39",
    "deepnote_cell_type": "code"
   },
   "outputs": [],
   "source": [
    "history_sarimax = history_sarimax[['MedianSoldPrice_AllHomes.California','MedianMortageRate','UnemploymentRate']]\n",
    "history_sarimax.columns = ['MedianSoldPrice', 'MedianMortgageRate', 'UnemploymentRate']\n",
    "history_sarimax = history_sarimax[['MedianMortgageRate', 'MedianSoldPrice']]"
   ]
  },
  {
   "cell_type": "code",
   "execution_count": null,
   "metadata": {
    "cell_id": "00059-eb627274-aa0c-4110-9655-4394d2d276a2",
    "deepnote_cell_type": "code"
   },
   "outputs": [],
   "source": [
    "train_size = int(len(history_sarimax) * 0.8)\n",
    "train, validation = history_sarimax[0:train_size], history_sarimax[train_size:]\n",
    "\n",
    "#scale data\n",
    "from sklearn.preprocessing import MinMaxScaler\n",
    "sc = MinMaxScaler(feature_range=(0, 1))\n",
    "\n",
    "train_sc = sc.fit_transform(train)\n",
    "validation_sc = sc.transform(validation)"
   ]
  },
  {
   "cell_type": "code",
   "execution_count": null,
   "metadata": {
    "cell_id": "00060-30e17913-ed27-4725-aac3-441060423ff3",
    "deepnote_cell_type": "code"
   },
   "outputs": [
    {
     "name": "stdout",
     "output_type": "stream",
     "text": [
      "Performing stepwise search to minimize aic\n",
      " ARIMA(0,1,0)(1,1,1)[12]             : AIC=-125.733, Time=0.18 sec\n",
      " ARIMA(0,1,0)(0,1,0)[12]             : AIC=-129.606, Time=0.03 sec\n",
      " ARIMA(1,1,0)(1,1,0)[12]             : AIC=-128.943, Time=0.16 sec\n",
      " ARIMA(0,1,1)(0,1,1)[12]             : AIC=-127.712, Time=0.22 sec\n",
      " ARIMA(0,1,0)(1,1,0)[12]             : AIC=-127.831, Time=0.23 sec\n",
      " ARIMA(0,1,0)(0,1,1)[12]             : AIC=-127.880, Time=0.16 sec\n",
      " ARIMA(1,1,0)(0,1,0)[12]             : AIC=-129.683, Time=0.06 sec\n",
      " ARIMA(1,1,0)(0,1,1)[12]             : AIC=-129.248, Time=0.19 sec\n",
      " ARIMA(1,1,0)(1,1,1)[12]             : AIC=-126.009, Time=0.21 sec\n",
      " ARIMA(2,1,0)(0,1,0)[12]             : AIC=-131.806, Time=0.14 sec\n",
      " ARIMA(2,1,0)(1,1,0)[12]             : AIC=-132.717, Time=0.41 sec\n",
      " ARIMA(2,1,0)(2,1,0)[12]             : AIC=-131.023, Time=0.63 sec\n",
      " ARIMA(2,1,0)(1,1,1)[12]             : AIC=-130.844, Time=0.42 sec\n",
      " ARIMA(2,1,0)(0,1,1)[12]             : AIC=-133.358, Time=0.32 sec\n",
      " ARIMA(2,1,0)(0,1,2)[12]             : AIC=-131.777, Time=1.06 sec\n",
      " ARIMA(2,1,0)(1,1,2)[12]             : AIC=-130.267, Time=0.81 sec\n",
      " ARIMA(3,1,0)(0,1,1)[12]             : AIC=-141.271, Time=0.27 sec\n",
      " ARIMA(3,1,0)(0,1,0)[12]             : AIC=-139.294, Time=0.09 sec\n",
      " ARIMA(3,1,0)(1,1,1)[12]             : AIC=-138.201, Time=0.34 sec\n",
      " ARIMA(3,1,0)(0,1,2)[12]             : AIC=-139.632, Time=0.80 sec\n",
      " ARIMA(3,1,0)(1,1,0)[12]             : AIC=-140.592, Time=0.34 sec\n",
      " ARIMA(3,1,0)(1,1,2)[12]             : AIC=-137.814, Time=0.88 sec\n",
      " ARIMA(4,1,0)(0,1,1)[12]             : AIC=-142.652, Time=0.44 sec\n",
      " ARIMA(4,1,0)(0,1,0)[12]             : AIC=-141.475, Time=0.17 sec\n",
      " ARIMA(4,1,0)(1,1,1)[12]             : AIC=-140.389, Time=0.64 sec\n",
      " ARIMA(4,1,0)(0,1,2)[12]             : AIC=-141.257, Time=0.87 sec\n",
      " ARIMA(4,1,0)(1,1,0)[12]             : AIC=-142.183, Time=0.31 sec\n",
      " ARIMA(4,1,0)(1,1,2)[12]             : AIC=-139.672, Time=1.03 sec\n",
      " ARIMA(4,1,1)(0,1,1)[12]             : AIC=-140.996, Time=0.70 sec\n",
      " ARIMA(3,1,1)(0,1,1)[12]             : AIC=-142.732, Time=0.51 sec\n",
      " ARIMA(3,1,1)(0,1,0)[12]             : AIC=-140.403, Time=0.18 sec\n",
      " ARIMA(3,1,1)(1,1,1)[12]             : AIC=-139.354, Time=0.48 sec\n",
      " ARIMA(3,1,1)(0,1,2)[12]             : AIC=-141.504, Time=1.27 sec\n",
      " ARIMA(3,1,1)(1,1,0)[12]             : AIC=-141.718, Time=0.50 sec\n",
      " ARIMA(3,1,1)(1,1,2)[12]             : AIC=-139.268, Time=1.19 sec\n",
      " ARIMA(2,1,1)(0,1,1)[12]             : AIC=inf, Time=0.34 sec\n",
      " ARIMA(3,1,2)(0,1,1)[12]             : AIC=-140.869, Time=0.55 sec\n",
      " ARIMA(2,1,2)(0,1,1)[12]             : AIC=-142.824, Time=0.52 sec\n",
      " ARIMA(2,1,2)(0,1,0)[12]             : AIC=-140.966, Time=0.21 sec\n",
      " ARIMA(2,1,2)(1,1,1)[12]             : AIC=-139.534, Time=0.53 sec\n",
      " ARIMA(2,1,2)(0,1,2)[12]             : AIC=-140.315, Time=0.91 sec\n",
      " ARIMA(2,1,2)(1,1,0)[12]             : AIC=-141.865, Time=0.46 sec\n",
      " ARIMA(2,1,2)(1,1,2)[12]             : AIC=-139.236, Time=1.05 sec\n",
      " ARIMA(1,1,2)(0,1,1)[12]             : AIC=-144.049, Time=0.48 sec\n",
      " ARIMA(1,1,2)(0,1,0)[12]             : AIC=-142.170, Time=0.24 sec\n",
      " ARIMA(1,1,2)(1,1,1)[12]             : AIC=-141.745, Time=0.54 sec\n",
      " ARIMA(1,1,2)(0,1,2)[12]             : AIC=-141.995, Time=0.87 sec\n",
      " ARIMA(1,1,2)(1,1,0)[12]             : AIC=-143.590, Time=0.60 sec\n",
      " ARIMA(1,1,2)(1,1,2)[12]             : AIC=inf, Time=0.96 sec\n",
      " ARIMA(0,1,2)(0,1,1)[12]             : AIC=-140.058, Time=0.29 sec\n",
      " ARIMA(1,1,1)(0,1,1)[12]             : AIC=-126.346, Time=0.46 sec\n",
      " ARIMA(1,1,3)(0,1,1)[12]             : AIC=-142.441, Time=0.55 sec\n",
      " ARIMA(0,1,3)(0,1,1)[12]             : AIC=-139.822, Time=0.32 sec\n",
      " ARIMA(2,1,3)(0,1,1)[12]             : AIC=-140.678, Time=0.60 sec\n",
      " ARIMA(1,1,2)(0,1,1)[12] intercept   : AIC=-142.899, Time=0.48 sec\n",
      "\n",
      "Best model:  ARIMA(1,1,2)(0,1,1)[12]          \n",
      "Total fit time: 27.231 seconds\n"
     ]
    }
   ],
   "source": [
    "#auto sarimax search with m=12\n",
    "from pmdarima.arima import auto_arima\n",
    "model=auto_arima(train_sc[:,-1], # MedianSoldPrice as endogenous\n",
    "                 exogenous= train_sc[:,:-1], # MedianMortgage as exogenous variable\n",
    "                 start_p=0, start_q=0, \n",
    "                 max_p=4, max_q=4, \n",
    "                 max_d=2,\n",
    "                 trace=True,seasonal=True,D=1,m=12, max_P=3, max_Q=3, #add seasonality\n",
    "                 error_action='ignore', \n",
    "                 suppress_warnings=True,information_criterion='oob', n_jobs = -1)"
   ]
  },
  {
   "cell_type": "code",
   "execution_count": null,
   "metadata": {
    "cell_id": "00061-6f1b8574-0eb8-4fb4-8759-32ae23d9a6a9",
    "deepnote_cell_type": "code"
   },
   "outputs": [],
   "source": [
    "y_pred = model.predict(n_periods=len(validation_sc),X=validation_sc[:,:-1]).reshape(-1,1)\n",
    "y_pred_ = np.repeat(y_pred,2,axis=1) # duplicate the pred column x3 times to fit the scaler's shape\n",
    "y_pred_inv = sc.inverse_transform(y_pred_)[:,-1] # inverset he duplicated y_pred and get the last colomn as result"
   ]
  },
  {
   "cell_type": "code",
   "execution_count": null,
   "metadata": {
    "cell_id": "00062-b385089e-476a-4586-8d56-a0a76454182f",
    "deepnote_cell_type": "code"
   },
   "outputs": [
    {
     "data": {
      "image/png": "[encoded data removed]",
      "text/plain": [
       "<Figure size 2160x720 with 1 Axes>"
      ]
     },
     "metadata": {
      "needs_background": "light"
     },
     "output_type": "display_data"
    }
   ],
   "source": [
    "y_pred_series = pd.Series(y_pred_inv,index=validation.index)\n",
    "plt.figure(figsize=(30, 10))\n",
    "\n",
    "plt.plot(validation[\"MedianSoldPrice\"], label='actual')\n",
    "plt.plot(y_pred_series, label='SARIMAX forecast')\n",
    "plt.legend(loc='upper left', fontsize=20)\n",
    "plt.title('Forecast vs Actual', fontsize = 25, y = 0.9)\n",
    "plt.show()"
   ]
  },
  {
   "cell_type": "code",
   "execution_count": null,
   "metadata": {
    "cell_id": "00063-f6dde325-5db2-4ad8-ab64-c836eb3da6ac",
    "deepnote_cell_type": "code"
   },
   "outputs": [
    {
     "data": {
      "text/plain": [
       "21676.3071146976"
      ]
     },
     "execution_count": 401,
     "metadata": {},
     "output_type": "execute_result"
    }
   ],
   "source": [
    "rmse = sqrt(mean_squared_error(validation[\"MedianSoldPrice\"], y_pred_series))\n",
    "rmse"
   ]
  },
  {
   "cell_type": "markdown",
   "metadata": {
    "cell_id": "00064-7fc663c2-b71f-4741-855a-72c30434db00",
    "deepnote_cell_type": "markdown"
   },
   "source": [
    "### Candidate 7 SARIMAX Model -  Unemployment Rate as Exogenous "
   ]
  },
  {
   "cell_type": "code",
   "execution_count": null,
   "metadata": {
    "cell_id": "00065-b402c360-5684-4c9d-b373-8eb9d96a222f",
    "deepnote_cell_type": "code"
   },
   "outputs": [],
   "source": [
    "history_sarimax = history[['Date', 'MedianSoldPrice_AllHomes.California','MedianMortageRate','UnemploymentRate']]\n",
    "history_sarimax = history_sarimax[['UnemploymentRate', 'MedianSoldPrice_AllHomes.California']]"
   ]
  },
  {
   "cell_type": "code",
   "execution_count": null,
   "metadata": {
    "cell_id": "00066-c7c0a3ae-c90b-4a24-a09c-2ec9dcca83f8",
    "deepnote_cell_type": "code"
   },
   "outputs": [],
   "source": [
    "train_size = int(len(history_sarimax) * 0.8)\n",
    "train, validation = history_sarimax[0:train_size], history_sarimax[train_size:]\n",
    "\n",
    "#scale data\n",
    "from sklearn.preprocessing import MinMaxScaler\n",
    "sc = MinMaxScaler(feature_range=(0, 1))\n",
    "\n",
    "train_sc = sc.fit_transform(train)\n",
    "validation_sc = sc.transform(validation)"
   ]
  },
  {
   "cell_type": "code",
   "execution_count": 9,
   "metadata": {
    "cell_id": "00067-82cb7365-791e-4509-a721-b522b8b4151b",
    "deepnote_cell_type": "code"
   },
   "outputs": [],
   "source": [
    "#auto sarimax search with m=12\n",
    "from pmdarima.arima import auto_arima\n",
    "model=auto_arima(train_sc[:,-1], # MedianSoldPrice as endogenous\n",
    "                 exogenous= train_sc[:,:-1], # MedianMortgage as exogenous variable\n",
    "                 start_p=0, start_q=0, \n",
    "                 max_p=4, max_q=4, \n",
    "                 max_d=2,\n",
    "                 trace=True,seasonal=True,D=1,m=12, max_P=3, max_Q=3, #add seasonality\n",
    "                 error_action='ignore', \n",
    "                 suppress_warnings=True,information_criterion='oob', n_jobs = -1)"
   ]
  },
  {
   "cell_type": "code",
   "execution_count": null,
   "metadata": {
    "cell_id": "00068-f71c2be6-b342-4027-a9ab-c5a171dbcd2e",
    "deepnote_cell_type": "code"
   },
   "outputs": [],
   "source": [
    "y_pred = model.predict(n_periods=len(validation_sc),X=validation_sc[:,:-1]).reshape(-1,1)\n",
    "y_pred_ = np.repeat(y_pred,2,axis=1) # duplicate the pred column x3 times to fit the scaler's shape\n",
    "y_pred_inv = sc.inverse_transform(y_pred_)[:,-1] # inverset he duplicated y_pred and get the last colomn as result"
   ]
  },
  {
   "cell_type": "code",
   "execution_count": null,
   "metadata": {
    "cell_id": "00069-c324c877-aa1a-4c5f-9b03-d92c576ab0a8",
    "deepnote_cell_type": "code"
   },
   "outputs": [
    {
     "data": {
      "image/png": "[encoded data removed]",
      "text/plain": [
       "<Figure size 2160x720 with 1 Axes>"
      ]
     },
     "metadata": {
      "needs_background": "light"
     },
     "output_type": "display_data"
    }
   ],
   "source": [
    "y_pred_series = pd.Series(y_pred_inv,index=validation.index)\n",
    "plt.figure(figsize=(30, 10))\n",
    "\n",
    "plt.plot(validation[\"MedianSoldPrice_AllHomes.California\"], label='actual')\n",
    "plt.plot(y_pred_series, label='SARIMAX forecast')\n",
    "plt.legend(loc='upper left', fontsize=20)\n",
    "plt.title('Forecast vs Actual', fontsize = 25, y = 0.9)\n",
    "plt.show()"
   ]
  },
  {
   "cell_type": "code",
   "execution_count": null,
   "metadata": {
    "cell_id": "00070-13abeae3-b871-470c-a1e8-7decf47286ed",
    "deepnote_cell_type": "code"
   },
   "outputs": [
    {
     "data": {
      "text/plain": [
       "77766.63151139136"
      ]
     },
     "execution_count": 415,
     "metadata": {},
     "output_type": "execute_result"
    }
   ],
   "source": [
    "rmse = sqrt(mean_squared_error(validation[\"MedianSoldPrice_AllHomes.California\"], y_pred_series))\n",
    "rmse"
   ]
  },
  {
   "cell_type": "markdown",
   "metadata": {
    "cell_id": "00074-b04ea349-3f15-472f-9d95-6000d3eb004f",
    "deepnote_cell_type": "markdown",
    "tags": []
   },
   "source": [
    "### Candidate 8: SARIMAX Model -  Median Mortgage Rate and Unemployment Rate as Exogenous"
   ]
  },
  {
   "cell_type": "code",
   "execution_count": null,
   "metadata": {
    "cell_id": "00074-fd87c45f-bcba-4e2a-a895-e89cf91debd7",
    "deepnote_cell_type": "code",
    "deepnote_to_be_reexecuted": false,
    "execution_millis": 37,
    "execution_start": 1615207403386,
    "source_hash": "d6a0b85e",
    "tags": []
   },
   "outputs": [],
   "source": [
    "history_sarimax = history[['Date', 'MedianSoldPrice_AllHomes.California','MedianMortageRate','UnemploymentRate']]\n",
    "history_sarimax = history_sarimax[['UnemploymentRate', 'MedianMortageRate' , 'MedianSoldPrice_AllHomes.California']]\n",
    "history_sarimax.index = history['Date']"
   ]
  },
  {
   "cell_type": "code",
   "execution_count": null,
   "metadata": {
    "cell_id": "00074-2b2c1571-0dd3-4367-aa68-92b9a794a8ca",
    "deepnote_cell_type": "code",
    "deepnote_to_be_reexecuted": false,
    "execution_millis": 25,
    "execution_start": 1615207403435,
    "source_hash": "1aaa5b71",
    "tags": []
   },
   "outputs": [],
   "source": [
    "train_size = int(len(history_sarimax) * 0.8)\n",
    "train, validation = history_sarimax[0:train_size], history_sarimax[train_size:]\n",
    "\n",
    "#scale data\n",
    "from sklearn.preprocessing import MinMaxScaler\n",
    "sc = MinMaxScaler(feature_range=(0, 1))\n",
    "\n",
    "train_sc = sc.fit_transform(train)\n",
    "validation_sc = sc.transform(validation)"
   ]
  },
  {
   "cell_type": "code",
   "execution_count": 10,
   "metadata": {
    "cell_id": "00074-30b00450-8c37-468d-bf24-957eb020b29a",
    "deepnote_cell_type": "code",
    "deepnote_to_be_reexecuted": false,
    "execution_millis": 133267,
    "execution_start": 1615207544609,
    "source_hash": "1b8eea04",
    "tags": []
   },
   "outputs": [],
   "source": [
    "#auto sarimax search with m=12\n",
    "from pmdarima.arima import auto_arima\n",
    "model=auto_arima(train_sc[:,-1], # MedianSoldPrice as endogenous\n",
    "                 exogenous= train_sc[:,:-1], # MedianMortgage, Unemployment as exogenous variable\n",
    "                 start_p=0, start_q=0, \n",
    "                 max_p=4, max_q=4, \n",
    "                 max_d=2,\n",
    "                 trace=True,seasonal=True,D=1,m=12, max_P=3, max_Q=3, #add seasonality\n",
    "                 error_action='ignore', \n",
    "                 suppress_warnings=True,information_criterion='oob', n_jobs = -1)"
   ]
  },
  {
   "cell_type": "code",
   "execution_count": null,
   "metadata": {
    "cell_id": "00074-51f0c420-2cf4-4a27-8d83-3ed5bcbe06c5",
    "deepnote_cell_type": "code",
    "deepnote_to_be_reexecuted": false,
    "execution_millis": 52,
    "execution_start": 1615207677881,
    "source_hash": "3e07b622",
    "tags": []
   },
   "outputs": [],
   "source": [
    "y_pred = model.predict(n_periods=len(validation_sc),X=validation_sc[:,:-1]).reshape(-1,1)\n",
    "y_pred_ = np.repeat(y_pred,3,axis=1) # duplicate the pred column x3 times to fit the scaler's shape\n",
    "y_pred_inv = sc.inverse_transform(y_pred_)[:,-1] # inverset he duplicated y_pred and get the last colomn as result"
   ]
  },
  {
   "cell_type": "code",
   "execution_count": null,
   "metadata": {
    "cell_id": "00079-82c86c6a-fa3a-4d5d-b6fd-dea3d1485069",
    "deepnote_cell_type": "code",
    "deepnote_to_be_reexecuted": false,
    "execution_millis": 940,
    "execution_start": 1615207677939,
    "source_hash": "9b5afd59",
    "tags": []
   },
   "outputs": [
    {
     "data": {
      "image/png": "[encoded data removed]",
      "text/plain": [
       "<Figure size 2160x720 with 1 Axes>"
      ]
     },
     "metadata": {
      "needs_background": "light"
     },
     "output_type": "display_data"
    }
   ],
   "source": [
    "y_pred_series = pd.Series(y_pred_inv,index=validation.index)\n",
    "plt.figure(figsize=(30, 10))\n",
    "\n",
    "plt.plot(validation[\"MedianSoldPrice_AllHomes.California\"], label='actual')\n",
    "plt.plot(y_pred_series, label='SARIMAX forecast')\n",
    "plt.legend(loc='upper left', fontsize=20)\n",
    "plt.title('SARIMAX: Unemployment and Mortgage Rates as Exogenous', fontsize = 25, y = 0.9)\n",
    "plt.show()"
   ]
  },
  {
   "cell_type": "code",
   "execution_count": null,
   "metadata": {
    "cell_id": "00079-75c39210-89e4-4a75-87f9-f6e72742a755",
    "deepnote_cell_type": "code",
    "deepnote_to_be_reexecuted": false,
    "execution_millis": 19,
    "execution_start": 1615207678866,
    "source_hash": "355d9c",
    "tags": []
   },
   "outputs": [
    {
     "data": {
      "text/plain": [
       "64405.04182023234"
      ]
     },
     "execution_count": 35,
     "metadata": {},
     "output_type": "execute_result"
    }
   ],
   "source": [
    "rmse = sqrt(mean_squared_error(validation[\"MedianSoldPrice_AllHomes.California\"], y_pred_series))\n",
    "rmse"
   ]
  },
  {
   "cell_type": "markdown",
   "metadata": {
    "cell_id": "00071-6f31138d-89c8-4019-adc8-9a75d36a7b49",
    "deepnote_cell_type": "markdown"
   },
   "source": [
    "### Candidate 9: LSTM"
   ]
  },
  {
   "cell_type": "code",
   "execution_count": null,
   "metadata": {
    "cell_id": "00072-c61d4b8d-4741-413a-ad55-ef83c83df2b2",
    "deepnote_cell_type": "code",
    "deepnote_to_be_reexecuted": false,
    "execution_millis": 19,
    "execution_start": 1615190617811,
    "source_hash": "3d5a4577"
   },
   "outputs": [
    {
     "data": {
      "application/vnd.deepnote.dataframe.v2+json": {
       "column_count": 4,
       "columns": [
        {
         "dtype": "datetime64[ns]",
         "name": "Date",
         "stats": {
          "histogram": [
           {
            "bin_end": 1205297280000000000,
            "bin_start": 1204243200000000000,
            "count": 1
           },
           {
            "bin_end": 1206351360000000000,
            "bin_start": 1205297280000000000,
            "count": 0
           },
           {
            "bin_end": 1207405440000000000,
            "bin_start": 1206351360000000000,
            "count": 1
           },
           {
            "bin_end": 1208459520000000000,
            "bin_start": 1207405440000000000,
            "count": 0
           },
           {
            "bin_end": 1209513600000000000,
            "bin_start": 1208459520000000000,
            "count": 0
           },
           {
            "bin_end": 1210567680000000000,
            "bin_start": 1209513600000000000,
            "count": 1
           },
           {
            "bin_end": 1211621760000000000,
            "bin_start": 1210567680000000000,
            "count": 0
           },
           {
            "bin_end": 1212675840000000000,
            "bin_start": 1211621760000000000,
            "count": 1
           },
           {
            "bin_end": 1213729920000000000,
            "bin_start": 1212675840000000000,
            "count": 0
           },
           {
            "bin_end": 1214784000000000000,
            "bin_start": 1213729920000000000,
            "count": 1
           }
          ],
          "max": "2008-06-30T00:00:00.000000",
          "min": "2008-02-29T00:00:00.000000",
          "nan_count": 0,
          "unique_count": 5
         }
        },
        {
         "dtype": "float64",
         "name": "MedianSoldPrice_AllHomes.California",
         "stats": {
          "histogram": [
           {
            "bin_end": 433100,
            "bin_start": 429000,
            "count": 1
           },
           {
            "bin_end": 437200,
            "bin_start": 433100,
            "count": 0
           },
           {
            "bin_end": 441300,
            "bin_start": 437200,
            "count": 2
           },
           {
            "bin_end": 445400,
            "bin_start": 441300,
            "count": 0
           },
           {
            "bin_end": 449500,
            "bin_start": 445400,
            "count": 0
           },
           {
            "bin_end": 453600,
            "bin_start": 449500,
            "count": 0
           },
           {
            "bin_end": 457700,
            "bin_start": 453600,
            "count": 0
           },
           {
            "bin_end": 461800,
            "bin_start": 457700,
            "count": 1
           },
           {
            "bin_end": 465900,
            "bin_start": 461800,
            "count": 0
           },
           {
            "bin_end": 470000,
            "bin_start": 465900,
            "count": 1
           }
          ],
          "max": 470000,
          "min": 429000,
          "nan_count": 0,
          "unique_count": 5
         }
        },
        {
         "dtype": "float64",
         "name": "MedianMortageRate",
         "stats": {
          "histogram": [
           {
            "bin_end": 5.321,
            "bin_start": 5.29,
            "count": 1
           },
           {
            "bin_end": 5.352,
            "bin_start": 5.321,
            "count": 0
           },
           {
            "bin_end": 5.383,
            "bin_start": 5.352,
            "count": 0
           },
           {
            "bin_end": 5.414,
            "bin_start": 5.383,
            "count": 0
           },
           {
            "bin_end": 5.445,
            "bin_start": 5.414,
            "count": 2
           },
           {
            "bin_end": 5.476,
            "bin_start": 5.445,
            "count": 1
           },
           {
            "bin_end": 5.507,
            "bin_start": 5.476,
            "count": 0
           },
           {
            "bin_end": 5.537999999999999,
            "bin_start": 5.507,
            "count": 0
           },
           {
            "bin_end": 5.569,
            "bin_start": 5.537999999999999,
            "count": 0
           },
           {
            "bin_end": 5.6,
            "bin_start": 5.569,
            "count": 1
           }
          ],
          "max": 5.6,
          "min": 5.29,
          "nan_count": 0,
          "unique_count": 5
         }
        },
        {
         "dtype": "float64",
         "name": "UnemploymentRate",
         "stats": {
          "histogram": [
           {
            "bin_end": 6.220000000000001,
            "bin_start": 6.2,
            "count": 2
           },
           {
            "bin_end": 6.24,
            "bin_start": 6.220000000000001,
            "count": 0
           },
           {
            "bin_end": 6.26,
            "bin_start": 6.24,
            "count": 0
           },
           {
            "bin_end": 6.28,
            "bin_start": 6.26,
            "count": 0
           },
           {
            "bin_end": 6.300000000000001,
            "bin_start": 6.28,
            "count": 2
           },
           {
            "bin_end": 6.32,
            "bin_start": 6.300000000000001,
            "count": 0
           },
           {
            "bin_end": 6.34,
            "bin_start": 6.32,
            "count": 0
           },
           {
            "bin_end": 6.36,
            "bin_start": 6.34,
            "count": 0
           },
           {
            "bin_end": 6.380000000000001,
            "bin_start": 6.36,
            "count": 0
           },
           {
            "bin_end": 6.4,
            "bin_start": 6.380000000000001,
            "count": 1
           }
          ],
          "max": 6.4,
          "min": 6.2,
          "nan_count": 0,
          "unique_count": 3
         }
        },
        {
         "dtype": "int64",
         "name": "_deepnote_index_column"
        }
       ],
       "row_count": 5,
       "rows_bottom": null,
       "rows_top": [
        {
         "Date": "2008-02-29T00:00:00.000000",
         "MedianMortageRate": 5.29,
         "MedianSoldPrice_AllHomes.California": 470000,
         "UnemploymentRate": 6.3,
         "_deepnote_index_column": 0
        },
        {
         "Date": "2008-03-31T00:00:00.000000",
         "MedianMortageRate": 5.44,
         "MedianSoldPrice_AllHomes.California": 441000,
         "UnemploymentRate": 6.2,
         "_deepnote_index_column": 1
        },
        {
         "Date": "2008-04-30T00:00:00.000000",
         "MedianMortageRate": 5.42,
         "MedianSoldPrice_AllHomes.California": 460000,
         "UnemploymentRate": 6.4,
         "_deepnote_index_column": 2
        },
        {
         "Date": "2008-05-31T00:00:00.000000",
         "MedianMortageRate": 5.47,
         "MedianSoldPrice_AllHomes.California": 429000,
         "UnemploymentRate": 6.3,
         "_deepnote_index_column": 3
        },
        {
         "Date": "2008-06-30T00:00:00.000000",
         "MedianMortageRate": 5.6,
         "MedianSoldPrice_AllHomes.California": 437500,
         "UnemploymentRate": 6.2,
         "_deepnote_index_column": 4
        }
       ]
      },
      "text/html": [
       "<div>\n",
       "<style scoped>\n",
       "    .dataframe tbody tr th:only-of-type {\n",
       "        vertical-align: middle;\n",
       "    }\n",
       "\n",
       "    .dataframe tbody tr th {\n",
       "        vertical-align: top;\n",
       "    }\n",
       "\n",
       "    .dataframe thead th {\n",
       "        text-align: right;\n",
       "    }\n",
       "</style>\n",
       "<table border=\"1\" class=\"dataframe\">\n",
       "  <thead>\n",
       "    <tr style=\"text-align: right;\">\n",
       "      <th></th>\n",
       "      <th>Date</th>\n",
       "      <th>MedianSoldPrice_AllHomes.California</th>\n",
       "      <th>MedianMortageRate</th>\n",
       "      <th>UnemploymentRate</th>\n",
       "    </tr>\n",
       "  </thead>\n",
       "  <tbody>\n",
       "    <tr>\n",
       "      <th>0</th>\n",
       "      <td>2008-02-29</td>\n",
       "      <td>470000.0</td>\n",
       "      <td>5.29</td>\n",
       "      <td>6.3</td>\n",
       "    </tr>\n",
       "    <tr>\n",
       "      <th>1</th>\n",
       "      <td>2008-03-31</td>\n",
       "      <td>441000.0</td>\n",
       "      <td>5.44</td>\n",
       "      <td>6.2</td>\n",
       "    </tr>\n",
       "    <tr>\n",
       "      <th>2</th>\n",
       "      <td>2008-04-30</td>\n",
       "      <td>460000.0</td>\n",
       "      <td>5.42</td>\n",
       "      <td>6.4</td>\n",
       "    </tr>\n",
       "    <tr>\n",
       "      <th>3</th>\n",
       "      <td>2008-05-31</td>\n",
       "      <td>429000.0</td>\n",
       "      <td>5.47</td>\n",
       "      <td>6.3</td>\n",
       "    </tr>\n",
       "    <tr>\n",
       "      <th>4</th>\n",
       "      <td>2008-06-30</td>\n",
       "      <td>437500.0</td>\n",
       "      <td>5.60</td>\n",
       "      <td>6.2</td>\n",
       "    </tr>\n",
       "  </tbody>\n",
       "</table>\n",
       "</div>"
      ],
      "text/plain": [
       "        Date  MedianSoldPrice_AllHomes.California  MedianMortageRate  \\\n",
       "0 2008-02-29                             470000.0               5.29   \n",
       "1 2008-03-31                             441000.0               5.44   \n",
       "2 2008-04-30                             460000.0               5.42   \n",
       "3 2008-05-31                             429000.0               5.47   \n",
       "4 2008-06-30                             437500.0               5.60   \n",
       "\n",
       "   UnemploymentRate  \n",
       "0               6.3  \n",
       "1               6.2  \n",
       "2               6.4  \n",
       "3               6.3  \n",
       "4               6.2  "
      ]
     },
     "execution_count": 40,
     "metadata": {},
     "output_type": "execute_result"
    }
   ],
   "source": [
    "history.head()"
   ]
  },
  {
   "cell_type": "code",
   "execution_count": null,
   "metadata": {
    "cell_id": "00076-35e4983d-0c48-4969-a65f-ae49fac1a046",
    "deepnote_cell_type": "code",
    "deepnote_to_be_reexecuted": false,
    "execution_millis": 13,
    "execution_start": 1615197833819,
    "source_hash": "fe8c3e59",
    "tags": []
   },
   "outputs": [],
   "source": [
    "dt = history.set_index('Date')"
   ]
  },
  {
   "cell_type": "code",
   "execution_count": null,
   "metadata": {
    "cell_id": "00077-58196fd7-9290-4f10-bc53-dad38644d661",
    "deepnote_cell_type": "code",
    "deepnote_to_be_reexecuted": false,
    "execution_millis": 29,
    "execution_start": 1615197840247,
    "source_hash": "9069a37b",
    "tags": []
   },
   "outputs": [
    {
     "data": {
      "application/vnd.deepnote.dataframe.v2+json": {
       "column_count": 3,
       "columns": [
        {
         "dtype": "float64",
         "name": "MedianSoldPrice_AllHomes.California",
         "stats": {
          "histogram": [
           {
            "bin_end": 433100,
            "bin_start": 429000,
            "count": 1
           },
           {
            "bin_end": 437200,
            "bin_start": 433100,
            "count": 0
           },
           {
            "bin_end": 441300,
            "bin_start": 437200,
            "count": 2
           },
           {
            "bin_end": 445400,
            "bin_start": 441300,
            "count": 0
           },
           {
            "bin_end": 449500,
            "bin_start": 445400,
            "count": 0
           },
           {
            "bin_end": 453600,
            "bin_start": 449500,
            "count": 0
           },
           {
            "bin_end": 457700,
            "bin_start": 453600,
            "count": 0
           },
           {
            "bin_end": 461800,
            "bin_start": 457700,
            "count": 1
           },
           {
            "bin_end": 465900,
            "bin_start": 461800,
            "count": 0
           },
           {
            "bin_end": 470000,
            "bin_start": 465900,
            "count": 1
           }
          ],
          "max": 470000,
          "min": 429000,
          "nan_count": 0,
          "unique_count": 5
         }
        },
        {
         "dtype": "float64",
         "name": "MedianMortageRate",
         "stats": {
          "histogram": [
           {
            "bin_end": 5.321,
            "bin_start": 5.29,
            "count": 1
           },
           {
            "bin_end": 5.352,
            "bin_start": 5.321,
            "count": 0
           },
           {
            "bin_end": 5.383,
            "bin_start": 5.352,
            "count": 0
           },
           {
            "bin_end": 5.414,
            "bin_start": 5.383,
            "count": 0
           },
           {
            "bin_end": 5.445,
            "bin_start": 5.414,
            "count": 2
           },
           {
            "bin_end": 5.476,
            "bin_start": 5.445,
            "count": 1
           },
           {
            "bin_end": 5.507,
            "bin_start": 5.476,
            "count": 0
           },
           {
            "bin_end": 5.537999999999999,
            "bin_start": 5.507,
            "count": 0
           },
           {
            "bin_end": 5.569,
            "bin_start": 5.537999999999999,
            "count": 0
           },
           {
            "bin_end": 5.6,
            "bin_start": 5.569,
            "count": 1
           }
          ],
          "max": 5.6,
          "min": 5.29,
          "nan_count": 0,
          "unique_count": 5
         }
        },
        {
         "dtype": "float64",
         "name": "UnemploymentRate",
         "stats": {
          "histogram": [
           {
            "bin_end": 6.220000000000001,
            "bin_start": 6.2,
            "count": 2
           },
           {
            "bin_end": 6.24,
            "bin_start": 6.220000000000001,
            "count": 0
           },
           {
            "bin_end": 6.26,
            "bin_start": 6.24,
            "count": 0
           },
           {
            "bin_end": 6.28,
            "bin_start": 6.26,
            "count": 0
           },
           {
            "bin_end": 6.300000000000001,
            "bin_start": 6.28,
            "count": 2
           },
           {
            "bin_end": 6.32,
            "bin_start": 6.300000000000001,
            "count": 0
           },
           {
            "bin_end": 6.34,
            "bin_start": 6.32,
            "count": 0
           },
           {
            "bin_end": 6.36,
            "bin_start": 6.34,
            "count": 0
           },
           {
            "bin_end": 6.380000000000001,
            "bin_start": 6.36,
            "count": 0
           },
           {
            "bin_end": 6.4,
            "bin_start": 6.380000000000001,
            "count": 1
           }
          ],
          "max": 6.4,
          "min": 6.2,
          "nan_count": 0,
          "unique_count": 3
         }
        },
        {
         "dtype": "datetime64[ns]",
         "name": "_deepnote_index_column"
        }
       ],
       "row_count": 5,
       "rows_bottom": null,
       "rows_top": [
        {
         "MedianMortageRate": 5.29,
         "MedianSoldPrice_AllHomes.California": 470000,
         "UnemploymentRate": 6.3,
         "_deepnote_index_column": "2008-02-29T00:00:00.000000"
        },
        {
         "MedianMortageRate": 5.44,
         "MedianSoldPrice_AllHomes.California": 441000,
         "UnemploymentRate": 6.2,
         "_deepnote_index_column": "2008-03-31T00:00:00.000000"
        },
        {
         "MedianMortageRate": 5.42,
         "MedianSoldPrice_AllHomes.California": 460000,
         "UnemploymentRate": 6.4,
         "_deepnote_index_column": "2008-04-30T00:00:00.000000"
        },
        {
         "MedianMortageRate": 5.47,
         "MedianSoldPrice_AllHomes.California": 429000,
         "UnemploymentRate": 6.3,
         "_deepnote_index_column": "2008-05-31T00:00:00.000000"
        },
        {
         "MedianMortageRate": 5.6,
         "MedianSoldPrice_AllHomes.California": 437500,
         "UnemploymentRate": 6.2,
         "_deepnote_index_column": "2008-06-30T00:00:00.000000"
        }
       ]
      },
      "text/html": [
       "<div>\n",
       "<style scoped>\n",
       "    .dataframe tbody tr th:only-of-type {\n",
       "        vertical-align: middle;\n",
       "    }\n",
       "\n",
       "    .dataframe tbody tr th {\n",
       "        vertical-align: top;\n",
       "    }\n",
       "\n",
       "    .dataframe thead th {\n",
       "        text-align: right;\n",
       "    }\n",
       "</style>\n",
       "<table border=\"1\" class=\"dataframe\">\n",
       "  <thead>\n",
       "    <tr style=\"text-align: right;\">\n",
       "      <th></th>\n",
       "      <th>MedianSoldPrice_AllHomes.California</th>\n",
       "      <th>MedianMortageRate</th>\n",
       "      <th>UnemploymentRate</th>\n",
       "    </tr>\n",
       "    <tr>\n",
       "      <th>Date</th>\n",
       "      <th></th>\n",
       "      <th></th>\n",
       "      <th></th>\n",
       "    </tr>\n",
       "  </thead>\n",
       "  <tbody>\n",
       "    <tr>\n",
       "      <th>2008-02-29</th>\n",
       "      <td>470000.0</td>\n",
       "      <td>5.29</td>\n",
       "      <td>6.3</td>\n",
       "    </tr>\n",
       "    <tr>\n",
       "      <th>2008-03-31</th>\n",
       "      <td>441000.0</td>\n",
       "      <td>5.44</td>\n",
       "      <td>6.2</td>\n",
       "    </tr>\n",
       "    <tr>\n",
       "      <th>2008-04-30</th>\n",
       "      <td>460000.0</td>\n",
       "      <td>5.42</td>\n",
       "      <td>6.4</td>\n",
       "    </tr>\n",
       "    <tr>\n",
       "      <th>2008-05-31</th>\n",
       "      <td>429000.0</td>\n",
       "      <td>5.47</td>\n",
       "      <td>6.3</td>\n",
       "    </tr>\n",
       "    <tr>\n",
       "      <th>2008-06-30</th>\n",
       "      <td>437500.0</td>\n",
       "      <td>5.60</td>\n",
       "      <td>6.2</td>\n",
       "    </tr>\n",
       "  </tbody>\n",
       "</table>\n",
       "</div>"
      ],
      "text/plain": [
       "            MedianSoldPrice_AllHomes.California  MedianMortageRate  \\\n",
       "Date                                                                 \n",
       "2008-02-29                             470000.0               5.29   \n",
       "2008-03-31                             441000.0               5.44   \n",
       "2008-04-30                             460000.0               5.42   \n",
       "2008-05-31                             429000.0               5.47   \n",
       "2008-06-30                             437500.0               5.60   \n",
       "\n",
       "            UnemploymentRate  \n",
       "Date                          \n",
       "2008-02-29               6.3  \n",
       "2008-03-31               6.2  \n",
       "2008-04-30               6.4  \n",
       "2008-05-31               6.3  \n",
       "2008-06-30               6.2  "
      ]
     },
     "execution_count": 46,
     "metadata": {},
     "output_type": "execute_result"
    }
   ],
   "source": [
    "dt.head()"
   ]
  },
  {
   "cell_type": "code",
   "execution_count": null,
   "metadata": {
    "cell_id": "00076-cdaeabbe-3230-4e07-8faf-7066936704eb",
    "deepnote_cell_type": "code",
    "deepnote_to_be_reexecuted": false,
    "execution_millis": 1,
    "execution_start": 1615197852189,
    "source_hash": "1d63b897",
    "tags": []
   },
   "outputs": [],
   "source": [
    "from sklearn.preprocessing import LabelEncoder\n",
    "from sklearn.preprocessing import MinMaxScaler\n",
    "\n",
    "# convert series to supervised learning\n",
    "def series_to_supervised(data, n_in=1, n_out=1, dropnan=True):\n",
    "    n_vars = 1 if type(data) is list else data.shape[1]\n",
    "    df = pd.DataFrame(data)\n",
    "    cols, names = list(), list()\n",
    "    # input sequence (t-n, ... t-1)\n",
    "    for i in range(n_in, 0, -1):\n",
    "        cols.append(df.shift(i))\n",
    "        names += [('var%d(t-%d)' % (j+1, i)) for j in range(n_vars)]\n",
    "    # forecast sequence (t, t+1, ... t+n)\n",
    "    for i in range(0, n_out):\n",
    "        cols.append(df.shift(-i))\n",
    "        if i == 0:\n",
    "            names += [('var%d(t)' % (j+1)) for j in range(n_vars)]\n",
    "        else:\n",
    "            names += [('var%d(t+%d)' % (j+1, i)) for j in range(n_vars)]\n",
    "    # put it all together\n",
    "    agg = pd.concat(cols, axis=1)\n",
    "    agg.columns = names\n",
    "    # drop rows with NaN values\n",
    "    if dropnan:\n",
    "        agg.dropna(inplace=True)\n",
    "        return agg"
   ]
  },
  {
   "cell_type": "code",
   "execution_count": null,
   "metadata": {
    "cell_id": "00077-b3bf5a41-d5f2-415e-88d6-ba5fd5e746c0",
    "deepnote_cell_type": "code",
    "deepnote_to_be_reexecuted": false,
    "execution_millis": 2,
    "execution_start": 1615197857050,
    "source_hash": "3fe9740d",
    "tags": []
   },
   "outputs": [],
   "source": [
    "values = dt.values\n",
    "# normalize features\n",
    "scaler = MinMaxScaler(feature_range=(0, 1))\n",
    "scaled = scaler.fit_transform(values)"
   ]
  },
  {
   "cell_type": "code",
   "execution_count": null,
   "metadata": {
    "cell_id": "00077-799cb9d1-6a71-47d6-ab90-749f1db5c6bc",
    "deepnote_cell_type": "code",
    "deepnote_to_be_reexecuted": false,
    "execution_millis": 7,
    "execution_start": 1615197876250,
    "source_hash": "d690d6e6",
    "tags": []
   },
   "outputs": [
    {
     "name": "stdout",
     "output_type": "stream",
     "text": [
      "   var1(t-1)  var2(t-1)  var3(t-1)   var1(t)   var2(t)   var3(t)\n",
      "1   0.876623   0.729927   0.317073  0.688312  0.784672  0.292683\n",
      "2   0.688312   0.784672   0.292683  0.811688  0.777372  0.341463\n",
      "3   0.811688   0.777372   0.341463  0.610390  0.795620  0.317073\n",
      "4   0.610390   0.795620   0.317073  0.665584  0.843066  0.292683\n",
      "5   0.665584   0.843066   0.292683  0.571429  0.956204  0.146341\n"
     ]
    }
   ],
   "source": [
    "reframed = series_to_supervised(scaled, 1, 1) \n",
    "print(reframed.head())"
   ]
  },
  {
   "cell_type": "code",
   "execution_count": null,
   "metadata": {
    "cell_id": "00081-a1afb87d-a24a-48bd-b514-fc82bed27647",
    "deepnote_cell_type": "code",
    "deepnote_to_be_reexecuted": false,
    "execution_millis": 6,
    "execution_start": 1615198172107,
    "source_hash": "d9d0008a",
    "tags": []
   },
   "outputs": [
    {
     "name": "stdout",
     "output_type": "stream",
     "text": [
      "   var1(t-1)  var2(t-1)  var3(t-1)   var1(t)\n",
      "1   0.876623   0.729927   0.317073  0.688312\n",
      "2   0.688312   0.784672   0.292683  0.811688\n",
      "3   0.811688   0.777372   0.341463  0.610390\n",
      "4   0.610390   0.795620   0.317073  0.665584\n",
      "5   0.665584   0.843066   0.292683  0.571429\n"
     ]
    }
   ],
   "source": [
    "# drop column we don't want to predict, aka weather\n",
    "reframed.drop(reframed.columns[[4, 5]], axis=1, inplace=True)\n",
    "print(reframed.head())"
   ]
  },
  {
   "cell_type": "code",
   "execution_count": null,
   "metadata": {
    "cell_id": "00082-164d3ba5-c40e-42da-8b5e-7b3e87ffcfef",
    "deepnote_cell_type": "code",
    "deepnote_to_be_reexecuted": false,
    "execution_millis": 9,
    "execution_start": 1615198311500,
    "source_hash": "79a00ee7",
    "tags": []
   },
   "outputs": [
    {
     "data": {
      "text/plain": [
       "(95, 4)"
      ]
     },
     "execution_count": 51,
     "metadata": {},
     "output_type": "execute_result"
    }
   ],
   "source": [
    "history.shape"
   ]
  },
  {
   "cell_type": "code",
   "execution_count": null,
   "metadata": {
    "cell_id": "00081-dbab747e-b790-4f1f-89c2-05913d13957b",
    "deepnote_cell_type": "code",
    "deepnote_to_be_reexecuted": false,
    "execution_millis": 51,
    "execution_start": 1615198599467,
    "source_hash": "f889b5b0",
    "tags": []
   },
   "outputs": [
    {
     "data": {
      "application/vnd.deepnote.dataframe.v2+json": {
       "column_count": 4,
       "columns": [
        {
         "dtype": "datetime64[ns]",
         "name": "Date",
         "stats": {
          "histogram": [
           {
            "bin_end": 1228970880000000000,
            "bin_start": 1204243200000000000,
            "count": 10
           },
           {
            "bin_end": 1253698560000000000,
            "bin_start": 1228970880000000000,
            "count": 9
           },
           {
            "bin_end": 1278426240000000000,
            "bin_start": 1253698560000000000,
            "count": 10
           },
           {
            "bin_end": 1303153920000000000,
            "bin_start": 1278426240000000000,
            "count": 9
           },
           {
            "bin_end": 1327881600000000000,
            "bin_start": 1303153920000000000,
            "count": 9
           },
           {
            "bin_end": 1352609280000000000,
            "bin_start": 1327881600000000000,
            "count": 10
           },
           {
            "bin_end": 1377336960000000000,
            "bin_start": 1352609280000000000,
            "count": 9
           },
           {
            "bin_end": 1402064640000000000,
            "bin_start": 1377336960000000000,
            "count": 10
           },
           {
            "bin_end": 1426792320000000000,
            "bin_start": 1402064640000000000,
            "count": 9
           },
           {
            "bin_end": 1451520000000000000,
            "bin_start": 1426792320000000000,
            "count": 10
           }
          ],
          "max": "2015-12-31T00:00:00.000000",
          "min": "2008-02-29T00:00:00.000000",
          "nan_count": 0,
          "unique_count": 95
         }
        },
        {
         "dtype": "float64",
         "name": "MedianSoldPrice_AllHomes.California",
         "stats": {
          "histogram": [
           {
            "bin_end": 350400,
            "bin_start": 335000,
            "count": 10
           },
           {
            "bin_end": 365800,
            "bin_start": 350400,
            "count": 23
           },
           {
            "bin_end": 381200,
            "bin_start": 365800,
            "count": 18
           },
           {
            "bin_end": 396600,
            "bin_start": 381200,
            "count": 3
           },
           {
            "bin_end": 412000,
            "bin_start": 396600,
            "count": 2
           },
           {
            "bin_end": 427400,
            "bin_start": 412000,
            "count": 6
           },
           {
            "bin_end": 442800,
            "bin_start": 427400,
            "count": 11
           },
           {
            "bin_end": 458200,
            "bin_start": 442800,
            "count": 7
           },
           {
            "bin_end": 473600,
            "bin_start": 458200,
            "count": 9
           },
           {
            "bin_end": 489000,
            "bin_start": 473600,
            "count": 6
           }
          ],
          "max": 489000,
          "min": 335000,
          "nan_count": 0,
          "unique_count": 54
         }
        },
        {
         "dtype": "float64",
         "name": "MedianMortageRate",
         "stats": {
          "histogram": [
           {
            "bin_end": 3.564,
            "bin_start": 3.29,
            "count": 9
           },
           {
            "bin_end": 3.838,
            "bin_start": 3.564,
            "count": 14
           },
           {
            "bin_end": 4.112,
            "bin_start": 3.838,
            "count": 24
           },
           {
            "bin_end": 4.386,
            "bin_start": 4.112,
            "count": 17
           },
           {
            "bin_end": 4.66,
            "bin_start": 4.386,
            "count": 15
           },
           {
            "bin_end": 4.934,
            "bin_start": 4.66,
            "count": 4
           },
           {
            "bin_end": 5.208,
            "bin_start": 4.934,
            "count": 1
           },
           {
            "bin_end": 5.482,
            "bin_start": 5.208,
            "count": 4
           },
           {
            "bin_end": 5.756,
            "bin_start": 5.482,
            "count": 2
           },
           {
            "bin_end": 6.03,
            "bin_start": 5.756,
            "count": 5
           }
          ],
          "max": 6.03,
          "min": 3.29,
          "nan_count": 0,
          "unique_count": 76
         }
        },
        {
         "dtype": "float64",
         "name": "UnemploymentRate",
         "stats": {
          "histogram": [
           {
            "bin_end": 5.41,
            "bin_start": 5,
            "count": 8
           },
           {
            "bin_end": 5.82,
            "bin_start": 5.41,
            "count": 6
           },
           {
            "bin_end": 6.23,
            "bin_start": 5.82,
            "count": 6
           },
           {
            "bin_end": 6.64,
            "bin_start": 6.23,
            "count": 11
           },
           {
            "bin_end": 7.05,
            "bin_start": 6.64,
            "count": 13
           },
           {
            "bin_end": 7.46,
            "bin_start": 7.05,
            "count": 15
           },
           {
            "bin_end": 7.869999999999999,
            "bin_start": 7.46,
            "count": 15
           },
           {
            "bin_end": 8.28,
            "bin_start": 7.869999999999999,
            "count": 8
           },
           {
            "bin_end": 8.69,
            "bin_start": 8.28,
            "count": 6
           },
           {
            "bin_end": 9.1,
            "bin_start": 8.69,
            "count": 7
           }
          ],
          "max": 9.1,
          "min": 5,
          "nan_count": 0,
          "unique_count": 35
         }
        },
        {
         "dtype": "int64",
         "name": "_deepnote_index_column"
        }
       ],
       "row_count": 95,
       "rows_bottom": null,
       "rows_top": [
        {
         "Date": "2008-02-29T00:00:00.000000",
         "MedianMortageRate": 5.29,
         "MedianSoldPrice_AllHomes.California": 470000,
         "UnemploymentRate": 6.3,
         "_deepnote_index_column": 0
        },
        {
         "Date": "2008-03-31T00:00:00.000000",
         "MedianMortageRate": 5.44,
         "MedianSoldPrice_AllHomes.California": 441000,
         "UnemploymentRate": 6.2,
         "_deepnote_index_column": 1
        },
        {
         "Date": "2008-04-30T00:00:00.000000",
         "MedianMortageRate": 5.42,
         "MedianSoldPrice_AllHomes.California": 460000,
         "UnemploymentRate": 6.4,
         "_deepnote_index_column": 2
        },
        {
         "Date": "2008-05-31T00:00:00.000000",
         "MedianMortageRate": 5.47,
         "MedianSoldPrice_AllHomes.California": 429000,
         "UnemploymentRate": 6.3,
         "_deepnote_index_column": 3
        },
        {
         "Date": "2008-06-30T00:00:00.000000",
         "MedianMortageRate": 5.6,
         "MedianSoldPrice_AllHomes.California": 437500,
         "UnemploymentRate": 6.2,
         "_deepnote_index_column": 4
        },
        {
         "Date": "2008-07-31T00:00:00.000000",
         "MedianMortageRate": 5.91,
         "MedianSoldPrice_AllHomes.California": 423000,
         "UnemploymentRate": 5.6,
         "_deepnote_index_column": 5
        },
        {
         "Date": "2008-08-31T00:00:00.000000",
         "MedianMortageRate": 5.97,
         "MedianSoldPrice_AllHomes.California": 408000,
         "UnemploymentRate": 6.3,
         "_deepnote_index_column": 6
        },
        {
         "Date": "2008-09-30T00:00:00.000000",
         "MedianMortageRate": 6.03,
         "MedianSoldPrice_AllHomes.California": 400000,
         "UnemploymentRate": 6.5,
         "_deepnote_index_column": 7
        },
        {
         "Date": "2008-10-31T00:00:00.000000",
         "MedianMortageRate": 5.64,
         "MedianSoldPrice_AllHomes.California": 390000,
         "UnemploymentRate": 5.7,
         "_deepnote_index_column": 8
        },
        {
         "Date": "2008-11-30T00:00:00.000000",
         "MedianMortageRate": 5.89,
         "MedianSoldPrice_AllHomes.California": 366000,
         "UnemploymentRate": 5.6,
         "_deepnote_index_column": 9
        },
        {
         "Date": "2008-12-31T00:00:00.000000",
         "MedianMortageRate": 5.79,
         "MedianSoldPrice_AllHomes.California": 365000,
         "UnemploymentRate": 6.2,
         "_deepnote_index_column": 10
        },
        {
         "Date": "2009-01-31T00:00:00.000000",
         "MedianMortageRate": 5.04,
         "MedianSoldPrice_AllHomes.California": 352000,
         "UnemploymentRate": 6.3,
         "_deepnote_index_column": 11
        },
        {
         "Date": "2009-02-28T00:00:00.000000",
         "MedianMortageRate": 4.72,
         "MedianSoldPrice_AllHomes.California": 355000,
         "UnemploymentRate": 7.8,
         "_deepnote_index_column": 12
        },
        {
         "Date": "2009-03-31T00:00:00.000000",
         "MedianMortageRate": 4.77,
         "MedianSoldPrice_AllHomes.California": 355000,
         "UnemploymentRate": 8.3,
         "_deepnote_index_column": 13
        },
        {
         "Date": "2009-04-30T00:00:00.000000",
         "MedianMortageRate": 4.64,
         "MedianSoldPrice_AllHomes.California": 358000,
         "UnemploymentRate": 8.8,
         "_deepnote_index_column": 14
        },
        {
         "Date": "2009-05-31T00:00:00.000000",
         "MedianMortageRate": 4.5,
         "MedianSoldPrice_AllHomes.California": 365000,
         "UnemploymentRate": 8.5,
         "_deepnote_index_column": 15
        },
        {
         "Date": "2009-06-30T00:00:00.000000",
         "MedianMortageRate": 4.52,
         "MedianSoldPrice_AllHomes.California": 375000,
         "UnemploymentRate": 8.7,
         "_deepnote_index_column": 16
        },
        {
         "Date": "2009-07-31T00:00:00.000000",
         "MedianMortageRate": 4.9,
         "MedianSoldPrice_AllHomes.California": 370000,
         "UnemploymentRate": 8.1,
         "_deepnote_index_column": 17
        },
        {
         "Date": "2009-08-31T00:00:00.000000",
         "MedianMortageRate": 4.69,
         "MedianSoldPrice_AllHomes.California": 370000,
         "UnemploymentRate": 8.9,
         "_deepnote_index_column": 18
        },
        {
         "Date": "2009-09-30T00:00:00.000000",
         "MedianMortageRate": 4.61,
         "MedianSoldPrice_AllHomes.California": 368750,
         "UnemploymentRate": 9.1,
         "_deepnote_index_column": 19
        },
        {
         "Date": "2009-10-31T00:00:00.000000",
         "MedianMortageRate": 4.49,
         "MedianSoldPrice_AllHomes.California": 360000,
         "UnemploymentRate": 7.6,
         "_deepnote_index_column": 20
        },
        {
         "Date": "2009-11-30T00:00:00.000000",
         "MedianMortageRate": 4.39,
         "MedianSoldPrice_AllHomes.California": 358000,
         "UnemploymentRate": 7.6,
         "_deepnote_index_column": 21
        },
        {
         "Date": "2009-12-31T00:00:00.000000",
         "MedianMortageRate": 4.34,
         "MedianSoldPrice_AllHomes.California": 370000,
         "UnemploymentRate": 7.9,
         "_deepnote_index_column": 22
        },
        {
         "Date": "2010-01-31T00:00:00.000000",
         "MedianMortageRate": 4.39,
         "MedianSoldPrice_AllHomes.California": 349000,
         "UnemploymentRate": 7.8,
         "_deepnote_index_column": 23
        },
        {
         "Date": "2010-02-28T00:00:00.000000",
         "MedianMortageRate": 4.44,
         "MedianSoldPrice_AllHomes.California": 355000,
         "UnemploymentRate": 8.7,
         "_deepnote_index_column": 24
        },
        {
         "Date": "2010-03-31T00:00:00.000000",
         "MedianMortageRate": 4.37,
         "MedianSoldPrice_AllHomes.California": 375000,
         "UnemploymentRate": 8.5,
         "_deepnote_index_column": 25
        },
        {
         "Date": "2010-04-30T00:00:00.000000",
         "MedianMortageRate": 4.33,
         "MedianSoldPrice_AllHomes.California": 360000,
         "UnemploymentRate": 8.8,
         "_deepnote_index_column": 26
        },
        {
         "Date": "2010-05-31T00:00:00.000000",
         "MedianMortageRate": 4.42,
         "MedianSoldPrice_AllHomes.California": 370000,
         "UnemploymentRate": 8.4,
         "_deepnote_index_column": 27
        },
        {
         "Date": "2010-06-30T00:00:00.000000",
         "MedianMortageRate": 4.28,
         "MedianSoldPrice_AllHomes.California": 375000,
         "UnemploymentRate": 8.4,
         "_deepnote_index_column": 28
        },
        {
         "Date": "2010-07-31T00:00:00.000000",
         "MedianMortageRate": 4.18,
         "MedianSoldPrice_AllHomes.California": 373000,
         "UnemploymentRate": 7.4,
         "_deepnote_index_column": 29
        },
        {
         "Date": "2010-08-31T00:00:00.000000",
         "MedianMortageRate": 4.04,
         "MedianSoldPrice_AllHomes.California": 378000,
         "UnemploymentRate": 8.3,
         "_deepnote_index_column": 30
        },
        {
         "Date": "2010-09-30T00:00:00.000000",
         "MedianMortageRate": 3.91,
         "MedianSoldPrice_AllHomes.California": 372750,
         "UnemploymentRate": 8.7,
         "_deepnote_index_column": 31
        },
        {
         "Date": "2010-10-31T00:00:00.000000",
         "MedianMortageRate": 3.81,
         "MedianSoldPrice_AllHomes.California": 365000,
         "UnemploymentRate": 7.4,
         "_deepnote_index_column": 32
        },
        {
         "Date": "2010-11-30T00:00:00.000000",
         "MedianMortageRate": 3.66,
         "MedianSoldPrice_AllHomes.California": 365000,
         "UnemploymentRate": 7.2,
         "_deepnote_index_column": 33
        },
        {
         "Date": "2010-12-31T00:00:00.000000",
         "MedianMortageRate": 3.68,
         "MedianSoldPrice_AllHomes.California": 370000,
         "UnemploymentRate": 7.2,
         "_deepnote_index_column": 34
        },
        {
         "Date": "2011-01-31T00:00:00.000000",
         "MedianMortageRate": 4.06,
         "MedianSoldPrice_AllHomes.California": 335000,
         "UnemploymentRate": 7,
         "_deepnote_index_column": 35
        },
        {
         "Date": "2011-02-28T00:00:00.000000",
         "MedianMortageRate": 4.08,
         "MedianSoldPrice_AllHomes.California": 345000,
         "UnemploymentRate": 8.1,
         "_deepnote_index_column": 36
        },
        {
         "Date": "2011-03-31T00:00:00.000000",
         "MedianMortageRate": 4.21,
         "MedianSoldPrice_AllHomes.California": 370000,
         "UnemploymentRate": 8,
         "_deepnote_index_column": 37
        },
        {
         "Date": "2011-04-30T00:00:00.000000",
         "MedianMortageRate": 4.45,
         "MedianSoldPrice_AllHomes.California": 355000,
         "UnemploymentRate": 8.2,
         "_deepnote_index_column": 38
        },
        {
         "Date": "2011-05-31T00:00:00.000000",
         "MedianMortageRate": 4.6,
         "MedianSoldPrice_AllHomes.California": 360000,
         "UnemploymentRate": 7.9,
         "_deepnote_index_column": 39
        },
        {
         "Date": "2011-06-30T00:00:00.000000",
         "MedianMortageRate": 4.41,
         "MedianSoldPrice_AllHomes.California": 368000,
         "UnemploymentRate": 7.5,
         "_deepnote_index_column": 40
        },
        {
         "Date": "2011-07-31T00:00:00.000000",
         "MedianMortageRate": 4.55,
         "MedianSoldPrice_AllHomes.California": 360000,
         "UnemploymentRate": 7,
         "_deepnote_index_column": 41
        },
        {
         "Date": "2011-08-31T00:00:00.000000",
         "MedianMortageRate": 4.33,
         "MedianSoldPrice_AllHomes.California": 355000,
         "UnemploymentRate": 7.6,
         "_deepnote_index_column": 42
        },
        {
         "Date": "2011-09-30T00:00:00.000000",
         "MedianMortageRate": 4.06,
         "MedianSoldPrice_AllHomes.California": 350000,
         "UnemploymentRate": 7.9,
         "_deepnote_index_column": 43
        },
        {
         "Date": "2011-10-31T00:00:00.000000",
         "MedianMortageRate": 3.99,
         "MedianSoldPrice_AllHomes.California": 350000,
         "UnemploymentRate": 6.6,
         "_deepnote_index_column": 44
        },
        {
         "Date": "2011-11-30T00:00:00.000000",
         "MedianMortageRate": 4,
         "MedianSoldPrice_AllHomes.California": 339500,
         "UnemploymentRate": 6.7,
         "_deepnote_index_column": 45
        },
        {
         "Date": "2011-12-31T00:00:00.000000",
         "MedianMortageRate": 3.95,
         "MedianSoldPrice_AllHomes.California": 349000,
         "UnemploymentRate": 7,
         "_deepnote_index_column": 46
        },
        {
         "Date": "2012-01-31T00:00:00.000000",
         "MedianMortageRate": 3.81,
         "MedianSoldPrice_AllHomes.California": 335000,
         "UnemploymentRate": 6.9,
         "_deepnote_index_column": 47
        },
        {
         "Date": "2012-02-29T00:00:00.000000",
         "MedianMortageRate": 3.76,
         "MedianSoldPrice_AllHomes.California": 335000,
         "UnemploymentRate": 8,
         "_deepnote_index_column": 48
        },
        {
         "Date": "2012-03-31T00:00:00.000000",
         "MedianMortageRate": 3.78,
         "MedianSoldPrice_AllHomes.California": 350000,
         "UnemploymentRate": 7.7,
         "_deepnote_index_column": 49
        },
        {
         "Date": "2012-04-30T00:00:00.000000",
         "MedianMortageRate": 3.93,
         "MedianSoldPrice_AllHomes.California": 352000,
         "UnemploymentRate": 7.7,
         "_deepnote_index_column": 50
        },
        {
         "Date": "2012-05-31T00:00:00.000000",
         "MedianMortageRate": 3.78,
         "MedianSoldPrice_AllHomes.California": 360250,
         "UnemploymentRate": 7.5,
         "_deepnote_index_column": 51
        },
        {
         "Date": "2012-06-30T00:00:00.000000",
         "MedianMortageRate": 3.63,
         "MedianSoldPrice_AllHomes.California": 366000,
         "UnemploymentRate": 7.4,
         "_deepnote_index_column": 52
        },
        {
         "Date": "2012-07-31T00:00:00.000000",
         "MedianMortageRate": 3.63,
         "MedianSoldPrice_AllHomes.California": 358500,
         "UnemploymentRate": 6.7,
         "_deepnote_index_column": 53
        },
        {
         "Date": "2012-08-31T00:00:00.000000",
         "MedianMortageRate": 3.54,
         "MedianSoldPrice_AllHomes.California": 364000,
         "UnemploymentRate": 7.5,
         "_deepnote_index_column": 54
        },
        {
         "Date": "2012-09-30T00:00:00.000000",
         "MedianMortageRate": 3.55,
         "MedianSoldPrice_AllHomes.California": 362000,
         "UnemploymentRate": 7.8,
         "_deepnote_index_column": 55
        },
        {
         "Date": "2012-10-31T00:00:00.000000",
         "MedianMortageRate": 3.29,
         "MedianSoldPrice_AllHomes.California": 363500,
         "UnemploymentRate": 6.7,
         "_deepnote_index_column": 56
        },
        {
         "Date": "2012-11-30T00:00:00.000000",
         "MedianMortageRate": 3.41,
         "MedianSoldPrice_AllHomes.California": 372250,
         "UnemploymentRate": 6.7,
         "_deepnote_index_column": 57
        },
        {
         "Date": "2012-12-31T00:00:00.000000",
         "MedianMortageRate": 3.37,
         "MedianSoldPrice_AllHomes.California": 385000,
         "UnemploymentRate": 6.7,
         "_deepnote_index_column": 58
        },
        {
         "Date": "2013-01-31T00:00:00.000000",
         "MedianMortageRate": 3.32,
         "MedianSoldPrice_AllHomes.California": 365000,
         "UnemploymentRate": 6.7,
         "_deepnote_index_column": 59
        },
        {
         "Date": "2013-02-28T00:00:00.000000",
         "MedianMortageRate": 3.59,
         "MedianSoldPrice_AllHomes.California": 375000,
         "UnemploymentRate": 7.5,
         "_deepnote_index_column": 60
        },
        {
         "Date": "2013-03-31T00:00:00.000000",
         "MedianMortageRate": 3.52,
         "MedianSoldPrice_AllHomes.California": 395000,
         "UnemploymentRate": 7.4,
         "_deepnote_index_column": 61
        },
        {
         "Date": "2013-04-30T00:00:00.000000",
         "MedianMortageRate": 3.55,
         "MedianSoldPrice_AllHomes.California": 416000,
         "UnemploymentRate": 7.8,
         "_deepnote_index_column": 62
        },
        {
         "Date": "2013-05-31T00:00:00.000000",
         "MedianMortageRate": 3.33,
         "MedianSoldPrice_AllHomes.California": 430000,
         "UnemploymentRate": 7.4,
         "_deepnote_index_column": 63
        },
        {
         "Date": "2013-06-30T00:00:00.000000",
         "MedianMortageRate": 3.88,
         "MedianSoldPrice_AllHomes.California": 430000,
         "UnemploymentRate": 7.2,
         "_deepnote_index_column": 64
        },
        {
         "Date": "2013-07-31T00:00:00.000000",
         "MedianMortageRate": 4.29,
         "MedianSoldPrice_AllHomes.California": 435000,
         "UnemploymentRate": 6.7,
         "_deepnote_index_column": 65
        },
        {
         "Date": "2013-08-31T00:00:00.000000",
         "MedianMortageRate": 4.37,
         "MedianSoldPrice_AllHomes.California": 425000,
         "UnemploymentRate": 7.4,
         "_deepnote_index_column": 66
        },
        {
         "Date": "2013-09-30T00:00:00.000000",
         "MedianMortageRate": 4.47,
         "MedianSoldPrice_AllHomes.California": 435000,
         "UnemploymentRate": 7.6,
         "_deepnote_index_column": 67
        },
        {
         "Date": "2013-10-31T00:00:00.000000",
         "MedianMortageRate": 4.14,
         "MedianSoldPrice_AllHomes.California": 425000,
         "UnemploymentRate": 6.4,
         "_deepnote_index_column": 68
        },
        {
         "Date": "2013-11-30T00:00:00.000000",
         "MedianMortageRate": 4.04,
         "MedianSoldPrice_AllHomes.California": 429000,
         "UnemploymentRate": 6.4,
         "_deepnote_index_column": 69
        },
        {
         "Date": "2013-12-31T00:00:00.000000",
         "MedianMortageRate": 4.3,
         "MedianSoldPrice_AllHomes.California": 432750,
         "UnemploymentRate": 6.5,
         "_deepnote_index_column": 70
        },
        {
         "Date": "2014-01-31T00:00:00.000000",
         "MedianMortageRate": 4.47,
         "MedianSoldPrice_AllHomes.California": 423500,
         "UnemploymentRate": 6.7,
         "_deepnote_index_column": 71
        },
        {
         "Date": "2014-02-28T00:00:00.000000",
         "MedianMortageRate": 4.21,
         "MedianSoldPrice_AllHomes.California": 422000,
         "UnemploymentRate": 7.4,
         "_deepnote_index_column": 72
        },
        {
         "Date": "2014-03-31T00:00:00.000000",
         "MedianMortageRate": 4.22,
         "MedianSoldPrice_AllHomes.California": 440000,
         "UnemploymentRate": 7.4,
         "_deepnote_index_column": 73
        },
        {
         "Date": "2014-04-30T00:00:00.000000",
         "MedianMortageRate": 4.3,
         "MedianSoldPrice_AllHomes.California": 450000,
         "UnemploymentRate": 7.4,
         "_deepnote_index_column": 74
        },
        {
         "Date": "2014-05-31T00:00:00.000000",
         "MedianMortageRate": 4.21,
         "MedianSoldPrice_AllHomes.California": 450000,
         "UnemploymentRate": 7.3,
         "_deepnote_index_column": 75
        },
        {
         "Date": "2014-06-30T00:00:00.000000",
         "MedianMortageRate": 4.05,
         "MedianSoldPrice_AllHomes.California": 460000,
         "UnemploymentRate": 7.2,
         "_deepnote_index_column": 76
        },
        {
         "Date": "2014-07-31T00:00:00.000000",
         "MedianMortageRate": 4.07,
         "MedianSoldPrice_AllHomes.California": 458000,
         "UnemploymentRate": 6.7,
         "_deepnote_index_column": 77
        },
        {
         "Date": "2014-08-31T00:00:00.000000",
         "MedianMortageRate": 4.13,
         "MedianSoldPrice_AllHomes.California": 460000,
         "UnemploymentRate": 7.3,
         "_deepnote_index_column": 78
        },
        {
         "Date": "2014-09-30T00:00:00.000000",
         "MedianMortageRate": 4.06,
         "MedianSoldPrice_AllHomes.California": 459750,
         "UnemploymentRate": 7.5,
         "_deepnote_index_column": 79
        },
        {
         "Date": "2014-10-31T00:00:00.000000",
         "MedianMortageRate": 4.19,
         "MedianSoldPrice_AllHomes.California": 450500,
         "UnemploymentRate": 6.3,
         "_deepnote_index_column": 80
        },
        {
         "Date": "2014-11-30T00:00:00.000000",
         "MedianMortageRate": 4.03,
         "MedianSoldPrice_AllHomes.California": 440000,
         "UnemploymentRate": 6,
         "_deepnote_index_column": 81
        },
        {
         "Date": "2014-12-31T00:00:00.000000",
         "MedianMortageRate": 3.9,
         "MedianSoldPrice_AllHomes.California": 450000,
         "UnemploymentRate": 6.2,
         "_deepnote_index_column": 82
        },
        {
         "Date": "2015-01-31T00:00:00.000000",
         "MedianMortageRate": 3.85,
         "MedianSoldPrice_AllHomes.California": 450000,
         "UnemploymentRate": 6.2,
         "_deepnote_index_column": 83
        },
        {
         "Date": "2015-02-28T00:00:00.000000",
         "MedianMortageRate": 3.89,
         "MedianSoldPrice_AllHomes.California": 450000,
         "UnemploymentRate": 5.7,
         "_deepnote_index_column": 84
        },
        {
         "Date": "2015-03-31T00:00:00.000000",
         "MedianMortageRate": 3.91,
         "MedianSoldPrice_AllHomes.California": 465000,
         "UnemploymentRate": 5.5,
         "_deepnote_index_column": 85
        },
        {
         "Date": "2015-04-30T00:00:00.000000",
         "MedianMortageRate": 3.79,
         "MedianSoldPrice_AllHomes.California": 467000,
         "UnemploymentRate": 5.4,
         "_deepnote_index_column": 86
        },
        {
         "Date": "2015-05-31T00:00:00.000000",
         "MedianMortageRate": 3.73,
         "MedianSoldPrice_AllHomes.California": 475000,
         "UnemploymentRate": 5.4,
         "_deepnote_index_column": 87
        },
        {
         "Date": "2015-06-30T00:00:00.000000",
         "MedianMortageRate": 3.85,
         "MedianSoldPrice_AllHomes.California": 489000,
         "UnemploymentRate": 5.6,
         "_deepnote_index_column": 88
        },
        {
         "Date": "2015-07-31T00:00:00.000000",
         "MedianMortageRate": 3.87,
         "MedianSoldPrice_AllHomes.California": 482750,
         "UnemploymentRate": 5.3,
         "_deepnote_index_column": 89
        },
        {
         "Date": "2015-08-31T00:00:00.000000",
         "MedianMortageRate": 3.95,
         "MedianSoldPrice_AllHomes.California": 475000,
         "UnemploymentRate": 5.2,
         "_deepnote_index_column": 90
        },
        {
         "Date": "2015-09-30T00:00:00.000000",
         "MedianMortageRate": 3.87,
         "MedianSoldPrice_AllHomes.California": 470000,
         "UnemploymentRate": 5.1,
         "_deepnote_index_column": 91
        },
        {
         "Date": "2015-10-31T00:00:00.000000",
         "MedianMortageRate": 3.8,
         "MedianSoldPrice_AllHomes.California": 470000,
         "UnemploymentRate": 5,
         "_deepnote_index_column": 92
        },
        {
         "Date": "2015-11-30T00:00:00.000000",
         "MedianMortageRate": 3.69,
         "MedianSoldPrice_AllHomes.California": 485750,
         "UnemploymentRate": 5,
         "_deepnote_index_column": 93
        },
        {
         "Date": "2015-12-31T00:00:00.000000",
         "MedianMortageRate": 3.89,
         "MedianSoldPrice_AllHomes.California": 485000,
         "UnemploymentRate": 5.1,
         "_deepnote_index_column": 94
        }
       ]
      },
      "text/html": [
       "<div>\n",
       "<style scoped>\n",
       "    .dataframe tbody tr th:only-of-type {\n",
       "        vertical-align: middle;\n",
       "    }\n",
       "\n",
       "    .dataframe tbody tr th {\n",
       "        vertical-align: top;\n",
       "    }\n",
       "\n",
       "    .dataframe thead th {\n",
       "        text-align: right;\n",
       "    }\n",
       "</style>\n",
       "<table border=\"1\" class=\"dataframe\">\n",
       "  <thead>\n",
       "    <tr style=\"text-align: right;\">\n",
       "      <th></th>\n",
       "      <th>Date</th>\n",
       "      <th>MedianSoldPrice_AllHomes.California</th>\n",
       "      <th>MedianMortageRate</th>\n",
       "      <th>UnemploymentRate</th>\n",
       "    </tr>\n",
       "  </thead>\n",
       "  <tbody>\n",
       "    <tr>\n",
       "      <th>0</th>\n",
       "      <td>2008-02-29</td>\n",
       "      <td>470000.0</td>\n",
       "      <td>5.29</td>\n",
       "      <td>6.3</td>\n",
       "    </tr>\n",
       "    <tr>\n",
       "      <th>1</th>\n",
       "      <td>2008-03-31</td>\n",
       "      <td>441000.0</td>\n",
       "      <td>5.44</td>\n",
       "      <td>6.2</td>\n",
       "    </tr>\n",
       "    <tr>\n",
       "      <th>2</th>\n",
       "      <td>2008-04-30</td>\n",
       "      <td>460000.0</td>\n",
       "      <td>5.42</td>\n",
       "      <td>6.4</td>\n",
       "    </tr>\n",
       "    <tr>\n",
       "      <th>3</th>\n",
       "      <td>2008-05-31</td>\n",
       "      <td>429000.0</td>\n",
       "      <td>5.47</td>\n",
       "      <td>6.3</td>\n",
       "    </tr>\n",
       "    <tr>\n",
       "      <th>4</th>\n",
       "      <td>2008-06-30</td>\n",
       "      <td>437500.0</td>\n",
       "      <td>5.60</td>\n",
       "      <td>6.2</td>\n",
       "    </tr>\n",
       "    <tr>\n",
       "      <th>...</th>\n",
       "      <td>...</td>\n",
       "      <td>...</td>\n",
       "      <td>...</td>\n",
       "      <td>...</td>\n",
       "    </tr>\n",
       "    <tr>\n",
       "      <th>90</th>\n",
       "      <td>2015-08-31</td>\n",
       "      <td>475000.0</td>\n",
       "      <td>3.95</td>\n",
       "      <td>5.2</td>\n",
       "    </tr>\n",
       "    <tr>\n",
       "      <th>91</th>\n",
       "      <td>2015-09-30</td>\n",
       "      <td>470000.0</td>\n",
       "      <td>3.87</td>\n",
       "      <td>5.1</td>\n",
       "    </tr>\n",
       "    <tr>\n",
       "      <th>92</th>\n",
       "      <td>2015-10-31</td>\n",
       "      <td>470000.0</td>\n",
       "      <td>3.80</td>\n",
       "      <td>5.0</td>\n",
       "    </tr>\n",
       "    <tr>\n",
       "      <th>93</th>\n",
       "      <td>2015-11-30</td>\n",
       "      <td>485750.0</td>\n",
       "      <td>3.69</td>\n",
       "      <td>5.0</td>\n",
       "    </tr>\n",
       "    <tr>\n",
       "      <th>94</th>\n",
       "      <td>2015-12-31</td>\n",
       "      <td>485000.0</td>\n",
       "      <td>3.89</td>\n",
       "      <td>5.1</td>\n",
       "    </tr>\n",
       "  </tbody>\n",
       "</table>\n",
       "<p>95 rows × 4 columns</p>\n",
       "</div>"
      ],
      "text/plain": [
       "         Date  MedianSoldPrice_AllHomes.California  MedianMortageRate  \\\n",
       "0  2008-02-29                             470000.0               5.29   \n",
       "1  2008-03-31                             441000.0               5.44   \n",
       "2  2008-04-30                             460000.0               5.42   \n",
       "3  2008-05-31                             429000.0               5.47   \n",
       "4  2008-06-30                             437500.0               5.60   \n",
       "..        ...                                  ...                ...   \n",
       "90 2015-08-31                             475000.0               3.95   \n",
       "91 2015-09-30                             470000.0               3.87   \n",
       "92 2015-10-31                             470000.0               3.80   \n",
       "93 2015-11-30                             485750.0               3.69   \n",
       "94 2015-12-31                             485000.0               3.89   \n",
       "\n",
       "    UnemploymentRate  \n",
       "0                6.3  \n",
       "1                6.2  \n",
       "2                6.4  \n",
       "3                6.3  \n",
       "4                6.2  \n",
       "..               ...  \n",
       "90               5.2  \n",
       "91               5.1  \n",
       "92               5.0  \n",
       "93               5.0  \n",
       "94               5.1  \n",
       "\n",
       "[95 rows x 4 columns]"
      ]
     },
     "execution_count": 53,
     "metadata": {},
     "output_type": "execute_result"
    }
   ],
   "source": [
    "history.loc[data['Date']<='2015-12-31']"
   ]
  },
  {
   "cell_type": "code",
   "execution_count": null,
   "metadata": {
    "cell_id": "00085-9457600c-170a-4f5a-aeee-905083d29b85",
    "deepnote_cell_type": "code",
    "deepnote_to_be_reexecuted": false,
    "execution_millis": 19,
    "execution_start": 1615198627139,
    "source_hash": "ebee153a",
    "tags": []
   },
   "outputs": [
    {
     "name": "stdout",
     "output_type": "stream",
     "text": [
      "(75, 1, 3) (75,) (19, 1, 3) (19,)\n"
     ]
    }
   ],
   "source": [
    "# split into train and test sets\n",
    "values = reframed.values\n",
    "period=int(len(values)*0.8)\n",
    "train = values[:period, :]\n",
    "test = values[period:, :]\n",
    "\n",
    "train_X, train_y = train[:, :-1], train[:, -1]\n",
    "test_X, test_y = test[:, :-1], test[:, -1]\n",
    "\n",
    "train_X = train_X.reshape((train_X.shape[0], 1, train_X.shape[1]))\n",
    "test_X = test_X.reshape((test_X.shape[0], 1, test_X.shape[1]))\n",
    "print(train_X.shape, train_y.shape, test_X.shape, test_y.shape)"
   ]
  },
  {
   "cell_type": "code",
   "execution_count": null,
   "metadata": {
    "cell_id": "00087-327aa5f9-f980-487a-8819-1388fed3af59",
    "deepnote_cell_type": "code",
    "deepnote_to_be_reexecuted": false,
    "execution_millis": 500,
    "execution_start": 1615198874547,
    "source_hash": "49477f6b",
    "tags": []
   },
   "outputs": [],
   "source": [
    "import keras\n",
    "from keras.models import Sequential\n",
    "from keras.layers import LSTM\n",
    "from keras.layers import Dense\n",
    "# design network\n",
    "model = Sequential()\n",
    "model.add(LSTM(3, input_shape=(train_X.shape[1], train_X.shape[2]))) \n",
    "model.add(Dense(1)) \n",
    "model.compile(loss= 'mae')\n"
   ]
  },
  {
   "cell_type": "code",
   "execution_count": 5,
   "metadata": {
    "cell_id": "00088-0d57c97b-6b70-4db8-a7af-bbe81c999c68",
    "deepnote_cell_type": "code",
    "deepnote_to_be_reexecuted": false,
    "execution_millis": 53098,
    "execution_start": 1615198896346,
    "source_hash": "b931bb65",
    "tags": []
   },
   "outputs": [],
   "source": [
    "# fit network\n",
    "history = model.fit(train_X, train_y, epochs=500, batch_size=12, validation_data=(test_X, test_y))"
   ]
  },
  {
   "cell_type": "code",
   "execution_count": null,
   "metadata": {
    "cell_id": "00089-f29a981f-09b5-4b29-abf0-f3dfbff3b4df",
    "deepnote_cell_type": "code",
    "deepnote_to_be_reexecuted": false,
    "execution_millis": 729,
    "execution_start": 1615199079814,
    "source_hash": "753764ed",
    "tags": []
   },
   "outputs": [
    {
     "name": "stdout",
     "output_type": "stream",
     "text": [
      "0.014079984535832236\n"
     ]
    }
   ],
   "source": [
    "# make a prediction\n",
    "yhat = model.predict(test_X)\n",
    "test_X = test_X.reshape((test_X.shape[0], test_X.shape[2]))\n",
    "# invert scaling for forecast\n",
    "inv_yhat = concatenate((yhat, test_X[:, 1:]), axis=1)\n",
    "inv_yhat = scaler.inverse_transform(inv_yhat)\n",
    "inv_yhat = inv_yhat[:,0]\n",
    "# invert scaling for actual\n",
    "test_y = test_y.reshape((len(test_y), 1))\n",
    "inv_y = concatenate((test_y, test_X[:, 1:]), axis=1)\n",
    "inv_y = scaler.inverse_transform(inv_y)\n",
    "inv_y = inv_y[:,0]\n",
    "# calculate mape\n",
    "mape=(np.abs(np.array(inv_y)-np.array(inv_yhat))/np.array(inv_y)).mean()\n",
    "\n",
    "\n",
    "print(mape)"
   ]
  },
  {
   "cell_type": "code",
   "execution_count": null,
   "metadata": {
    "cell_id": "00089-0bec2025-6d1b-4f70-869d-873102ccb883",
    "deepnote_cell_type": "code",
    "deepnote_to_be_reexecuted": false,
    "execution_millis": 1,
    "execution_start": 1615199263983,
    "source_hash": "c739339c",
    "tags": []
   },
   "outputs": [
    {
     "name": "stdout",
     "output_type": "stream",
     "text": [
      "8300.341389666399\n"
     ]
    }
   ],
   "source": [
    "#Calculate RMSE for LSTM model for using 80% split of training data\n",
    "\n",
    "from sklearn.metrics import mean_squared_error\n",
    "from math import sqrt\n",
    "\n",
    "rmse = sqrt(mean_squared_error(np.array(inv_y), np.array(inv_yhat)))\n",
    "\n",
    "print(rmse)"
   ]
  },
  {
   "cell_type": "code",
   "execution_count": null,
   "metadata": {
    "cell_id": "00090-dca8f993-33a1-45ed-8323-b2b1b005c280",
    "deepnote_cell_type": "code",
    "deepnote_to_be_reexecuted": false,
    "execution_millis": 20,
    "execution_start": 1615199549741,
    "source_hash": "8645a50d",
    "tags": []
   },
   "outputs": [],
   "source": [
    "#plot the forecasted values from model\n",
    "\n",
    "# make a prediction\n",
    "train_yhat = model.predict(train_X)\n",
    "train_X = train_X.reshape((train_X.shape[0], train_X.shape[2]))\n",
    "# invert scaling for forecast\n",
    "inv_train_yhat = concatenate((train_yhat, train_X[:, 1:]), axis=1)\n",
    "inv_train_yhat = scaler.inverse_transform(inv_train_yhat)\n",
    "inv_train_yhat = inv_train_yhat[:,0]\n",
    "# invert scaling for actual\n",
    "train_y = train_y.reshape((len(train_y), 1))\n",
    "inv_train_y = concatenate((train_y, train_X[:, 1:]), axis=1)\n",
    "inv_train_y = scaler.inverse_transform(inv_train_y)\n",
    "inv_train_y = inv_train_y[:,0]"
   ]
  },
  {
   "cell_type": "code",
   "execution_count": null,
   "metadata": {
    "cell_id": "00092-417a17c0-971c-41c4-8abd-4b92746dd15b",
    "deepnote_cell_type": "code",
    "deepnote_to_be_reexecuted": false,
    "execution_millis": 6,
    "execution_start": 1615200086923,
    "source_hash": "58efb2f7",
    "tags": []
   },
   "outputs": [
    {
     "name": "stdout",
     "output_type": "stream",
     "text": [
      "(19,)\n",
      "(75,)\n",
      "(94,)\n"
     ]
    }
   ],
   "source": [
    "print(inv_yhat.shape)\n",
    "print(inv_train_yhat.shape)\n",
    "print(np.concatenate((inv_train_yhat, inv_yhat), axis = 0).shape)"
   ]
  },
  {
   "cell_type": "code",
   "execution_count": null,
   "metadata": {
    "cell_id": "00088-90e60efb-1c54-4657-b2a8-b5df805e1724",
    "deepnote_cell_type": "code",
    "deepnote_to_be_reexecuted": false,
    "execution_millis": 385,
    "execution_start": 1615200242171,
    "source_hash": "25784c8",
    "tags": []
   },
   "outputs": [
    {
     "data": {
      "image/png": "[encoded data removed]",
      "text/plain": [
       "<Figure size 2160x720 with 1 Axes>"
      ]
     },
     "metadata": {
      "needs_background": "light"
     },
     "output_type": "display_data"
    }
   ],
   "source": [
    "\n",
    "plt.figure(figsize=(30, 10))\n",
    "\n",
    "y_pred_lstm = np.concatenate((inv_train_yhat, inv_yhat), axis = 0)\n",
    "\n",
    "plt.plot(dt.index, dt['MedianSoldPrice_AllHomes.California'], label='actual')\n",
    "plt.plot(list(dt.index)[:-1], y_pred_lstm , label='LSTM forecast')\n",
    "plt.legend(loc='upper left', fontsize=20)\n",
    "plt.title('Forecast vs Actual', fontsize = 25, y = 0.9)\n",
    "plt.show()"
   ]
  },
  {
   "cell_type": "code",
   "execution_count": null,
   "metadata": {
    "cell_id": "00115-940c1e1a-02a8-4447-a938-a3a8341e895c",
    "deepnote_cell_type": "code",
    "deepnote_to_be_reexecuted": false,
    "execution_millis": 0,
    "execution_start": 1615212056997,
    "source_hash": "eb10b5e4",
    "tags": []
   },
   "outputs": [],
   "source": [
    "data = pd.read_csv('zillow-carlifornia.csv').set_index('Date')\n",
    "test_data = pd.read_csv('test.csv').set_index('Month')"
   ]
  },
  {
   "cell_type": "code",
   "execution_count": null,
   "metadata": {
    "cell_id": "00116-0baeb104-6db2-426c-9a5c-e9d34bac5bfa",
    "deepnote_cell_type": "code",
    "deepnote_to_be_reexecuted": false,
    "execution_millis": 45,
    "execution_start": 1615212059198,
    "source_hash": "4da02467",
    "tags": []
   },
   "outputs": [
    {
     "data": {
      "application/vnd.deepnote.dataframe.v2+json": {
       "column_count": 3,
       "columns": [
        {
         "dtype": "float64",
         "name": "MedianSoldPrice_AllHomes.California",
         "stats": {
          "histogram": [
           {
            "bin_end": 350400,
            "bin_start": 335000,
            "count": 10
           },
           {
            "bin_end": 365800,
            "bin_start": 350400,
            "count": 23
           },
           {
            "bin_end": 381200,
            "bin_start": 365800,
            "count": 18
           },
           {
            "bin_end": 396600,
            "bin_start": 381200,
            "count": 3
           },
           {
            "bin_end": 412000,
            "bin_start": 396600,
            "count": 2
           },
           {
            "bin_end": 427400,
            "bin_start": 412000,
            "count": 6
           },
           {
            "bin_end": 442800,
            "bin_start": 427400,
            "count": 11
           },
           {
            "bin_end": 458200,
            "bin_start": 442800,
            "count": 7
           },
           {
            "bin_end": 473600,
            "bin_start": 458200,
            "count": 9
           },
           {
            "bin_end": 489000,
            "bin_start": 473600,
            "count": 6
           }
          ],
          "max": 489000,
          "min": 335000,
          "nan_count": 0,
          "unique_count": 54
         }
        },
        {
         "dtype": "float64",
         "name": "MedianMortageRate",
         "stats": {
          "histogram": [
           {
            "bin_end": 3.564,
            "bin_start": 3.29,
            "count": 9
           },
           {
            "bin_end": 3.838,
            "bin_start": 3.564,
            "count": 14
           },
           {
            "bin_end": 4.112,
            "bin_start": 3.838,
            "count": 24
           },
           {
            "bin_end": 4.386,
            "bin_start": 4.112,
            "count": 17
           },
           {
            "bin_end": 4.66,
            "bin_start": 4.386,
            "count": 15
           },
           {
            "bin_end": 4.934,
            "bin_start": 4.66,
            "count": 4
           },
           {
            "bin_end": 5.208,
            "bin_start": 4.934,
            "count": 1
           },
           {
            "bin_end": 5.482,
            "bin_start": 5.208,
            "count": 4
           },
           {
            "bin_end": 5.756,
            "bin_start": 5.482,
            "count": 2
           },
           {
            "bin_end": 6.03,
            "bin_start": 5.756,
            "count": 5
           }
          ],
          "max": 6.03,
          "min": 3.29,
          "nan_count": 0,
          "unique_count": 76
         }
        },
        {
         "dtype": "float64",
         "name": "UnemploymentRate",
         "stats": {
          "histogram": [
           {
            "bin_end": 5.41,
            "bin_start": 5,
            "count": 8
           },
           {
            "bin_end": 5.82,
            "bin_start": 5.41,
            "count": 6
           },
           {
            "bin_end": 6.23,
            "bin_start": 5.82,
            "count": 6
           },
           {
            "bin_end": 6.64,
            "bin_start": 6.23,
            "count": 11
           },
           {
            "bin_end": 7.05,
            "bin_start": 6.64,
            "count": 13
           },
           {
            "bin_end": 7.46,
            "bin_start": 7.05,
            "count": 15
           },
           {
            "bin_end": 7.869999999999999,
            "bin_start": 7.46,
            "count": 15
           },
           {
            "bin_end": 8.28,
            "bin_start": 7.869999999999999,
            "count": 8
           },
           {
            "bin_end": 8.69,
            "bin_start": 8.28,
            "count": 6
           },
           {
            "bin_end": 9.1,
            "bin_start": 8.69,
            "count": 7
           }
          ],
          "max": 9.1,
          "min": 5,
          "nan_count": 0,
          "unique_count": 35
         }
        },
        {
         "dtype": "object",
         "name": "_deepnote_index_column"
        }
       ],
       "row_count": 95,
       "rows_bottom": null,
       "rows_top": [
        {
         "MedianMortageRate": 5.29,
         "MedianSoldPrice_AllHomes.California": 470000,
         "UnemploymentRate": 6.3,
         "_deepnote_index_column": "2008-02-29"
        },
        {
         "MedianMortageRate": 5.44,
         "MedianSoldPrice_AllHomes.California": 441000,
         "UnemploymentRate": 6.2,
         "_deepnote_index_column": "2008-03-31"
        },
        {
         "MedianMortageRate": 5.42,
         "MedianSoldPrice_AllHomes.California": 460000,
         "UnemploymentRate": 6.4,
         "_deepnote_index_column": "2008-04-30"
        },
        {
         "MedianMortageRate": 5.47,
         "MedianSoldPrice_AllHomes.California": 429000,
         "UnemploymentRate": 6.3,
         "_deepnote_index_column": "2008-05-31"
        },
        {
         "MedianMortageRate": 5.6,
         "MedianSoldPrice_AllHomes.California": 437500,
         "UnemploymentRate": 6.2,
         "_deepnote_index_column": "2008-06-30"
        },
        {
         "MedianMortageRate": 5.91,
         "MedianSoldPrice_AllHomes.California": 423000,
         "UnemploymentRate": 5.6,
         "_deepnote_index_column": "2008-07-31"
        },
        {
         "MedianMortageRate": 5.97,
         "MedianSoldPrice_AllHomes.California": 408000,
         "UnemploymentRate": 6.3,
         "_deepnote_index_column": "2008-08-31"
        },
        {
         "MedianMortageRate": 6.03,
         "MedianSoldPrice_AllHomes.California": 400000,
         "UnemploymentRate": 6.5,
         "_deepnote_index_column": "2008-09-30"
        },
        {
         "MedianMortageRate": 5.64,
         "MedianSoldPrice_AllHomes.California": 390000,
         "UnemploymentRate": 5.7,
         "_deepnote_index_column": "2008-10-31"
        },
        {
         "MedianMortageRate": 5.89,
         "MedianSoldPrice_AllHomes.California": 366000,
         "UnemploymentRate": 5.6,
         "_deepnote_index_column": "2008-11-30"
        },
        {
         "MedianMortageRate": 5.79,
         "MedianSoldPrice_AllHomes.California": 365000,
         "UnemploymentRate": 6.2,
         "_deepnote_index_column": "2008-12-31"
        },
        {
         "MedianMortageRate": 5.04,
         "MedianSoldPrice_AllHomes.California": 352000,
         "UnemploymentRate": 6.3,
         "_deepnote_index_column": "2009-01-31"
        },
        {
         "MedianMortageRate": 4.72,
         "MedianSoldPrice_AllHomes.California": 355000,
         "UnemploymentRate": 7.8,
         "_deepnote_index_column": "2009-02-28"
        },
        {
         "MedianMortageRate": 4.77,
         "MedianSoldPrice_AllHomes.California": 355000,
         "UnemploymentRate": 8.3,
         "_deepnote_index_column": "2009-03-31"
        },
        {
         "MedianMortageRate": 4.64,
         "MedianSoldPrice_AllHomes.California": 358000,
         "UnemploymentRate": 8.8,
         "_deepnote_index_column": "2009-04-30"
        },
        {
         "MedianMortageRate": 4.5,
         "MedianSoldPrice_AllHomes.California": 365000,
         "UnemploymentRate": 8.5,
         "_deepnote_index_column": "2009-05-31"
        },
        {
         "MedianMortageRate": 4.52,
         "MedianSoldPrice_AllHomes.California": 375000,
         "UnemploymentRate": 8.7,
         "_deepnote_index_column": "2009-06-30"
        },
        {
         "MedianMortageRate": 4.9,
         "MedianSoldPrice_AllHomes.California": 370000,
         "UnemploymentRate": 8.1,
         "_deepnote_index_column": "2009-07-31"
        },
        {
         "MedianMortageRate": 4.69,
         "MedianSoldPrice_AllHomes.California": 370000,
         "UnemploymentRate": 8.9,
         "_deepnote_index_column": "2009-08-31"
        },
        {
         "MedianMortageRate": 4.61,
         "MedianSoldPrice_AllHomes.California": 368750,
         "UnemploymentRate": 9.1,
         "_deepnote_index_column": "2009-09-30"
        },
        {
         "MedianMortageRate": 4.49,
         "MedianSoldPrice_AllHomes.California": 360000,
         "UnemploymentRate": 7.6,
         "_deepnote_index_column": "2009-10-31"
        },
        {
         "MedianMortageRate": 4.39,
         "MedianSoldPrice_AllHomes.California": 358000,
         "UnemploymentRate": 7.6,
         "_deepnote_index_column": "2009-11-30"
        },
        {
         "MedianMortageRate": 4.34,
         "MedianSoldPrice_AllHomes.California": 370000,
         "UnemploymentRate": 7.9,
         "_deepnote_index_column": "2009-12-31"
        },
        {
         "MedianMortageRate": 4.39,
         "MedianSoldPrice_AllHomes.California": 349000,
         "UnemploymentRate": 7.8,
         "_deepnote_index_column": "2010-01-31"
        },
        {
         "MedianMortageRate": 4.44,
         "MedianSoldPrice_AllHomes.California": 355000,
         "UnemploymentRate": 8.7,
         "_deepnote_index_column": "2010-02-28"
        },
        {
         "MedianMortageRate": 4.37,
         "MedianSoldPrice_AllHomes.California": 375000,
         "UnemploymentRate": 8.5,
         "_deepnote_index_column": "2010-03-31"
        },
        {
         "MedianMortageRate": 4.33,
         "MedianSoldPrice_AllHomes.California": 360000,
         "UnemploymentRate": 8.8,
         "_deepnote_index_column": "2010-04-30"
        },
        {
         "MedianMortageRate": 4.42,
         "MedianSoldPrice_AllHomes.California": 370000,
         "UnemploymentRate": 8.4,
         "_deepnote_index_column": "2010-05-31"
        },
        {
         "MedianMortageRate": 4.28,
         "MedianSoldPrice_AllHomes.California": 375000,
         "UnemploymentRate": 8.4,
         "_deepnote_index_column": "2010-06-30"
        },
        {
         "MedianMortageRate": 4.18,
         "MedianSoldPrice_AllHomes.California": 373000,
         "UnemploymentRate": 7.4,
         "_deepnote_index_column": "2010-07-31"
        },
        {
         "MedianMortageRate": 4.04,
         "MedianSoldPrice_AllHomes.California": 378000,
         "UnemploymentRate": 8.3,
         "_deepnote_index_column": "2010-08-31"
        },
        {
         "MedianMortageRate": 3.91,
         "MedianSoldPrice_AllHomes.California": 372750,
         "UnemploymentRate": 8.7,
         "_deepnote_index_column": "2010-09-30"
        },
        {
         "MedianMortageRate": 3.81,
         "MedianSoldPrice_AllHomes.California": 365000,
         "UnemploymentRate": 7.4,
         "_deepnote_index_column": "2010-10-31"
        },
        {
         "MedianMortageRate": 3.66,
         "MedianSoldPrice_AllHomes.California": 365000,
         "UnemploymentRate": 7.2,
         "_deepnote_index_column": "2010-11-30"
        },
        {
         "MedianMortageRate": 3.68,
         "MedianSoldPrice_AllHomes.California": 370000,
         "UnemploymentRate": 7.2,
         "_deepnote_index_column": "2010-12-31"
        },
        {
         "MedianMortageRate": 4.06,
         "MedianSoldPrice_AllHomes.California": 335000,
         "UnemploymentRate": 7,
         "_deepnote_index_column": "2011-01-31"
        },
        {
         "MedianMortageRate": 4.08,
         "MedianSoldPrice_AllHomes.California": 345000,
         "UnemploymentRate": 8.1,
         "_deepnote_index_column": "2011-02-28"
        },
        {
         "MedianMortageRate": 4.21,
         "MedianSoldPrice_AllHomes.California": 370000,
         "UnemploymentRate": 8,
         "_deepnote_index_column": "2011-03-31"
        },
        {
         "MedianMortageRate": 4.45,
         "MedianSoldPrice_AllHomes.California": 355000,
         "UnemploymentRate": 8.2,
         "_deepnote_index_column": "2011-04-30"
        },
        {
         "MedianMortageRate": 4.6,
         "MedianSoldPrice_AllHomes.California": 360000,
         "UnemploymentRate": 7.9,
         "_deepnote_index_column": "2011-05-31"
        },
        {
         "MedianMortageRate": 4.41,
         "MedianSoldPrice_AllHomes.California": 368000,
         "UnemploymentRate": 7.5,
         "_deepnote_index_column": "2011-06-30"
        },
        {
         "MedianMortageRate": 4.55,
         "MedianSoldPrice_AllHomes.California": 360000,
         "UnemploymentRate": 7,
         "_deepnote_index_column": "2011-07-31"
        },
        {
         "MedianMortageRate": 4.33,
         "MedianSoldPrice_AllHomes.California": 355000,
         "UnemploymentRate": 7.6,
         "_deepnote_index_column": "2011-08-31"
        },
        {
         "MedianMortageRate": 4.06,
         "MedianSoldPrice_AllHomes.California": 350000,
         "UnemploymentRate": 7.9,
         "_deepnote_index_column": "2011-09-30"
        },
        {
         "MedianMortageRate": 3.99,
         "MedianSoldPrice_AllHomes.California": 350000,
         "UnemploymentRate": 6.6,
         "_deepnote_index_column": "2011-10-31"
        },
        {
         "MedianMortageRate": 4,
         "MedianSoldPrice_AllHomes.California": 339500,
         "UnemploymentRate": 6.7,
         "_deepnote_index_column": "2011-11-30"
        },
        {
         "MedianMortageRate": 3.95,
         "MedianSoldPrice_AllHomes.California": 349000,
         "UnemploymentRate": 7,
         "_deepnote_index_column": "2011-12-31"
        },
        {
         "MedianMortageRate": 3.81,
         "MedianSoldPrice_AllHomes.California": 335000,
         "UnemploymentRate": 6.9,
         "_deepnote_index_column": "2012-01-31"
        },
        {
         "MedianMortageRate": 3.76,
         "MedianSoldPrice_AllHomes.California": 335000,
         "UnemploymentRate": 8,
         "_deepnote_index_column": "2012-02-29"
        },
        {
         "MedianMortageRate": 3.78,
         "MedianSoldPrice_AllHomes.California": 350000,
         "UnemploymentRate": 7.7,
         "_deepnote_index_column": "2012-03-31"
        },
        {
         "MedianMortageRate": 3.93,
         "MedianSoldPrice_AllHomes.California": 352000,
         "UnemploymentRate": 7.7,
         "_deepnote_index_column": "2012-04-30"
        },
        {
         "MedianMortageRate": 3.78,
         "MedianSoldPrice_AllHomes.California": 360250,
         "UnemploymentRate": 7.5,
         "_deepnote_index_column": "2012-05-31"
        },
        {
         "MedianMortageRate": 3.63,
         "MedianSoldPrice_AllHomes.California": 366000,
         "UnemploymentRate": 7.4,
         "_deepnote_index_column": "2012-06-30"
        },
        {
         "MedianMortageRate": 3.63,
         "MedianSoldPrice_AllHomes.California": 358500,
         "UnemploymentRate": 6.7,
         "_deepnote_index_column": "2012-07-31"
        },
        {
         "MedianMortageRate": 3.54,
         "MedianSoldPrice_AllHomes.California": 364000,
         "UnemploymentRate": 7.5,
         "_deepnote_index_column": "2012-08-31"
        },
        {
         "MedianMortageRate": 3.55,
         "MedianSoldPrice_AllHomes.California": 362000,
         "UnemploymentRate": 7.8,
         "_deepnote_index_column": "2012-09-30"
        },
        {
         "MedianMortageRate": 3.29,
         "MedianSoldPrice_AllHomes.California": 363500,
         "UnemploymentRate": 6.7,
         "_deepnote_index_column": "2012-10-31"
        },
        {
         "MedianMortageRate": 3.41,
         "MedianSoldPrice_AllHomes.California": 372250,
         "UnemploymentRate": 6.7,
         "_deepnote_index_column": "2012-11-30"
        },
        {
         "MedianMortageRate": 3.37,
         "MedianSoldPrice_AllHomes.California": 385000,
         "UnemploymentRate": 6.7,
         "_deepnote_index_column": "2012-12-31"
        },
        {
         "MedianMortageRate": 3.32,
         "MedianSoldPrice_AllHomes.California": 365000,
         "UnemploymentRate": 6.7,
         "_deepnote_index_column": "2013-01-31"
        },
        {
         "MedianMortageRate": 3.59,
         "MedianSoldPrice_AllHomes.California": 375000,
         "UnemploymentRate": 7.5,
         "_deepnote_index_column": "2013-02-28"
        },
        {
         "MedianMortageRate": 3.52,
         "MedianSoldPrice_AllHomes.California": 395000,
         "UnemploymentRate": 7.4,
         "_deepnote_index_column": "2013-03-31"
        },
        {
         "MedianMortageRate": 3.55,
         "MedianSoldPrice_AllHomes.California": 416000,
         "UnemploymentRate": 7.8,
         "_deepnote_index_column": "2013-04-30"
        },
        {
         "MedianMortageRate": 3.33,
         "MedianSoldPrice_AllHomes.California": 430000,
         "UnemploymentRate": 7.4,
         "_deepnote_index_column": "2013-05-31"
        },
        {
         "MedianMortageRate": 3.88,
         "MedianSoldPrice_AllHomes.California": 430000,
         "UnemploymentRate": 7.2,
         "_deepnote_index_column": "2013-06-30"
        },
        {
         "MedianMortageRate": 4.29,
         "MedianSoldPrice_AllHomes.California": 435000,
         "UnemploymentRate": 6.7,
         "_deepnote_index_column": "2013-07-31"
        },
        {
         "MedianMortageRate": 4.37,
         "MedianSoldPrice_AllHomes.California": 425000,
         "UnemploymentRate": 7.4,
         "_deepnote_index_column": "2013-08-31"
        },
        {
         "MedianMortageRate": 4.47,
         "MedianSoldPrice_AllHomes.California": 435000,
         "UnemploymentRate": 7.6,
         "_deepnote_index_column": "2013-09-30"
        },
        {
         "MedianMortageRate": 4.14,
         "MedianSoldPrice_AllHomes.California": 425000,
         "UnemploymentRate": 6.4,
         "_deepnote_index_column": "2013-10-31"
        },
        {
         "MedianMortageRate": 4.04,
         "MedianSoldPrice_AllHomes.California": 429000,
         "UnemploymentRate": 6.4,
         "_deepnote_index_column": "2013-11-30"
        },
        {
         "MedianMortageRate": 4.3,
         "MedianSoldPrice_AllHomes.California": 432750,
         "UnemploymentRate": 6.5,
         "_deepnote_index_column": "2013-12-31"
        },
        {
         "MedianMortageRate": 4.47,
         "MedianSoldPrice_AllHomes.California": 423500,
         "UnemploymentRate": 6.7,
         "_deepnote_index_column": "2014-01-31"
        },
        {
         "MedianMortageRate": 4.21,
         "MedianSoldPrice_AllHomes.California": 422000,
         "UnemploymentRate": 7.4,
         "_deepnote_index_column": "2014-02-28"
        },
        {
         "MedianMortageRate": 4.22,
         "MedianSoldPrice_AllHomes.California": 440000,
         "UnemploymentRate": 7.4,
         "_deepnote_index_column": "2014-03-31"
        },
        {
         "MedianMortageRate": 4.3,
         "MedianSoldPrice_AllHomes.California": 450000,
         "UnemploymentRate": 7.4,
         "_deepnote_index_column": "2014-04-30"
        },
        {
         "MedianMortageRate": 4.21,
         "MedianSoldPrice_AllHomes.California": 450000,
         "UnemploymentRate": 7.3,
         "_deepnote_index_column": "2014-05-31"
        },
        {
         "MedianMortageRate": 4.05,
         "MedianSoldPrice_AllHomes.California": 460000,
         "UnemploymentRate": 7.2,
         "_deepnote_index_column": "2014-06-30"
        },
        {
         "MedianMortageRate": 4.07,
         "MedianSoldPrice_AllHomes.California": 458000,
         "UnemploymentRate": 6.7,
         "_deepnote_index_column": "2014-07-31"
        },
        {
         "MedianMortageRate": 4.13,
         "MedianSoldPrice_AllHomes.California": 460000,
         "UnemploymentRate": 7.3,
         "_deepnote_index_column": "2014-08-31"
        },
        {
         "MedianMortageRate": 4.06,
         "MedianSoldPrice_AllHomes.California": 459750,
         "UnemploymentRate": 7.5,
         "_deepnote_index_column": "2014-09-30"
        },
        {
         "MedianMortageRate": 4.19,
         "MedianSoldPrice_AllHomes.California": 450500,
         "UnemploymentRate": 6.3,
         "_deepnote_index_column": "2014-10-31"
        },
        {
         "MedianMortageRate": 4.03,
         "MedianSoldPrice_AllHomes.California": 440000,
         "UnemploymentRate": 6,
         "_deepnote_index_column": "2014-11-30"
        },
        {
         "MedianMortageRate": 3.9,
         "MedianSoldPrice_AllHomes.California": 450000,
         "UnemploymentRate": 6.2,
         "_deepnote_index_column": "2014-12-31"
        },
        {
         "MedianMortageRate": 3.85,
         "MedianSoldPrice_AllHomes.California": 450000,
         "UnemploymentRate": 6.2,
         "_deepnote_index_column": "2015-01-31"
        },
        {
         "MedianMortageRate": 3.89,
         "MedianSoldPrice_AllHomes.California": 450000,
         "UnemploymentRate": 5.7,
         "_deepnote_index_column": "2015-02-28"
        },
        {
         "MedianMortageRate": 3.91,
         "MedianSoldPrice_AllHomes.California": 465000,
         "UnemploymentRate": 5.5,
         "_deepnote_index_column": "2015-03-31"
        },
        {
         "MedianMortageRate": 3.79,
         "MedianSoldPrice_AllHomes.California": 467000,
         "UnemploymentRate": 5.4,
         "_deepnote_index_column": "2015-04-30"
        },
        {
         "MedianMortageRate": 3.73,
         "MedianSoldPrice_AllHomes.California": 475000,
         "UnemploymentRate": 5.4,
         "_deepnote_index_column": "2015-05-31"
        },
        {
         "MedianMortageRate": 3.85,
         "MedianSoldPrice_AllHomes.California": 489000,
         "UnemploymentRate": 5.6,
         "_deepnote_index_column": "2015-06-30"
        },
        {
         "MedianMortageRate": 3.87,
         "MedianSoldPrice_AllHomes.California": 482750,
         "UnemploymentRate": 5.3,
         "_deepnote_index_column": "2015-07-31"
        },
        {
         "MedianMortageRate": 3.95,
         "MedianSoldPrice_AllHomes.California": 475000,
         "UnemploymentRate": 5.2,
         "_deepnote_index_column": "2015-08-31"
        },
        {
         "MedianMortageRate": 3.87,
         "MedianSoldPrice_AllHomes.California": 470000,
         "UnemploymentRate": 5.1,
         "_deepnote_index_column": "2015-09-30"
        },
        {
         "MedianMortageRate": 3.8,
         "MedianSoldPrice_AllHomes.California": 470000,
         "UnemploymentRate": 5,
         "_deepnote_index_column": "2015-10-31"
        },
        {
         "MedianMortageRate": 3.69,
         "MedianSoldPrice_AllHomes.California": 485750,
         "UnemploymentRate": 5,
         "_deepnote_index_column": "2015-11-30"
        },
        {
         "MedianMortageRate": 3.89,
         "MedianSoldPrice_AllHomes.California": 485000,
         "UnemploymentRate": 5.1,
         "_deepnote_index_column": "2015-12-31"
        }
       ]
      },
      "text/html": [
       "<div>\n",
       "<style scoped>\n",
       "    .dataframe tbody tr th:only-of-type {\n",
       "        vertical-align: middle;\n",
       "    }\n",
       "\n",
       "    .dataframe tbody tr th {\n",
       "        vertical-align: top;\n",
       "    }\n",
       "\n",
       "    .dataframe thead th {\n",
       "        text-align: right;\n",
       "    }\n",
       "</style>\n",
       "<table border=\"1\" class=\"dataframe\">\n",
       "  <thead>\n",
       "    <tr style=\"text-align: right;\">\n",
       "      <th></th>\n",
       "      <th>MedianSoldPrice_AllHomes.California</th>\n",
       "      <th>MedianMortageRate</th>\n",
       "      <th>UnemploymentRate</th>\n",
       "    </tr>\n",
       "    <tr>\n",
       "      <th>Date</th>\n",
       "      <th></th>\n",
       "      <th></th>\n",
       "      <th></th>\n",
       "    </tr>\n",
       "  </thead>\n",
       "  <tbody>\n",
       "    <tr>\n",
       "      <th>2008-02-29</th>\n",
       "      <td>470000.0</td>\n",
       "      <td>5.29</td>\n",
       "      <td>6.3</td>\n",
       "    </tr>\n",
       "    <tr>\n",
       "      <th>2008-03-31</th>\n",
       "      <td>441000.0</td>\n",
       "      <td>5.44</td>\n",
       "      <td>6.2</td>\n",
       "    </tr>\n",
       "    <tr>\n",
       "      <th>2008-04-30</th>\n",
       "      <td>460000.0</td>\n",
       "      <td>5.42</td>\n",
       "      <td>6.4</td>\n",
       "    </tr>\n",
       "    <tr>\n",
       "      <th>2008-05-31</th>\n",
       "      <td>429000.0</td>\n",
       "      <td>5.47</td>\n",
       "      <td>6.3</td>\n",
       "    </tr>\n",
       "    <tr>\n",
       "      <th>2008-06-30</th>\n",
       "      <td>437500.0</td>\n",
       "      <td>5.60</td>\n",
       "      <td>6.2</td>\n",
       "    </tr>\n",
       "    <tr>\n",
       "      <th>...</th>\n",
       "      <td>...</td>\n",
       "      <td>...</td>\n",
       "      <td>...</td>\n",
       "    </tr>\n",
       "    <tr>\n",
       "      <th>2015-08-31</th>\n",
       "      <td>475000.0</td>\n",
       "      <td>3.95</td>\n",
       "      <td>5.2</td>\n",
       "    </tr>\n",
       "    <tr>\n",
       "      <th>2015-09-30</th>\n",
       "      <td>470000.0</td>\n",
       "      <td>3.87</td>\n",
       "      <td>5.1</td>\n",
       "    </tr>\n",
       "    <tr>\n",
       "      <th>2015-10-31</th>\n",
       "      <td>470000.0</td>\n",
       "      <td>3.80</td>\n",
       "      <td>5.0</td>\n",
       "    </tr>\n",
       "    <tr>\n",
       "      <th>2015-11-30</th>\n",
       "      <td>485750.0</td>\n",
       "      <td>3.69</td>\n",
       "      <td>5.0</td>\n",
       "    </tr>\n",
       "    <tr>\n",
       "      <th>2015-12-31</th>\n",
       "      <td>485000.0</td>\n",
       "      <td>3.89</td>\n",
       "      <td>5.1</td>\n",
       "    </tr>\n",
       "  </tbody>\n",
       "</table>\n",
       "<p>95 rows × 3 columns</p>\n",
       "</div>"
      ],
      "text/plain": [
       "            MedianSoldPrice_AllHomes.California  MedianMortageRate  \\\n",
       "Date                                                                 \n",
       "2008-02-29                             470000.0               5.29   \n",
       "2008-03-31                             441000.0               5.44   \n",
       "2008-04-30                             460000.0               5.42   \n",
       "2008-05-31                             429000.0               5.47   \n",
       "2008-06-30                             437500.0               5.60   \n",
       "...                                         ...                ...   \n",
       "2015-08-31                             475000.0               3.95   \n",
       "2015-09-30                             470000.0               3.87   \n",
       "2015-10-31                             470000.0               3.80   \n",
       "2015-11-30                             485750.0               3.69   \n",
       "2015-12-31                             485000.0               3.89   \n",
       "\n",
       "            UnemploymentRate  \n",
       "Date                          \n",
       "2008-02-29               6.3  \n",
       "2008-03-31               6.2  \n",
       "2008-04-30               6.4  \n",
       "2008-05-31               6.3  \n",
       "2008-06-30               6.2  \n",
       "...                      ...  \n",
       "2015-08-31               5.2  \n",
       "2015-09-30               5.1  \n",
       "2015-10-31               5.0  \n",
       "2015-11-30               5.0  \n",
       "2015-12-31               5.1  \n",
       "\n",
       "[95 rows x 3 columns]"
      ]
     },
     "execution_count": 4,
     "metadata": {},
     "output_type": "execute_result"
    }
   ],
   "source": [
    "history = data[['MedianSoldPrice_AllHomes.California','MedianMortageRate', 'UnemploymentRate']].dropna()\n",
    "history"
   ]
  },
  {
   "cell_type": "code",
   "execution_count": null,
   "metadata": {
    "cell_id": "00118-96eb4a0d-23f0-46db-b8a3-f5b9d680ee21",
    "deepnote_cell_type": "code",
    "deepnote_to_be_reexecuted": false,
    "execution_millis": 17,
    "execution_start": 1615212063749,
    "source_hash": "71ba5158",
    "tags": []
   },
   "outputs": [],
   "source": [
    "test_dup = data.merge(test_data, left_index= True, right_index= True).drop(columns = ['MedianSoldPrice_AllHomes.California']).loc['2015-12-31':]\n",
    "test = test_dup[['Median House Price', 'MedianMortageRate', 'UnemploymentRate']]"
   ]
  },
  {
   "cell_type": "code",
   "execution_count": null,
   "metadata": {
    "cell_id": "00119-a10795d0-5b83-4c10-bba2-8180bac756e8",
    "deepnote_cell_type": "code",
    "deepnote_to_be_reexecuted": false,
    "execution_millis": 19,
    "execution_start": 1615212067268,
    "source_hash": "1d63b897",
    "tags": []
   },
   "outputs": [],
   "source": [
    "from sklearn.preprocessing import LabelEncoder\n",
    "from sklearn.preprocessing import MinMaxScaler\n",
    "\n",
    "# convert series to supervised learning\n",
    "def series_to_supervised(data, n_in=1, n_out=1, dropnan=True):\n",
    "    n_vars = 1 if type(data) is list else data.shape[1]\n",
    "    df = pd.DataFrame(data)\n",
    "    cols, names = list(), list()\n",
    "    # input sequence (t-n, ... t-1)\n",
    "    for i in range(n_in, 0, -1):\n",
    "        cols.append(df.shift(i))\n",
    "        names += [('var%d(t-%d)' % (j+1, i)) for j in range(n_vars)]\n",
    "    # forecast sequence (t, t+1, ... t+n)\n",
    "    for i in range(0, n_out):\n",
    "        cols.append(df.shift(-i))\n",
    "        if i == 0:\n",
    "            names += [('var%d(t)' % (j+1)) for j in range(n_vars)]\n",
    "        else:\n",
    "            names += [('var%d(t+%d)' % (j+1, i)) for j in range(n_vars)]\n",
    "    # put it all together\n",
    "    agg = pd.concat(cols, axis=1)\n",
    "    agg.columns = names\n",
    "    # drop rows with NaN values\n",
    "    if dropnan:\n",
    "        agg.dropna(inplace=True)\n",
    "        return agg"
   ]
  },
  {
   "cell_type": "code",
   "execution_count": null,
   "metadata": {
    "cell_id": "00120-c3b3fd97-e07a-46f4-9f40-468b04b31192",
    "deepnote_cell_type": "code",
    "deepnote_to_be_reexecuted": false,
    "execution_millis": 6,
    "execution_start": 1615212071070,
    "source_hash": "19831bb9",
    "tags": []
   },
   "outputs": [],
   "source": [
    "train_values = history.values\n",
    "test_values = test.values\n",
    "\n",
    "# normalize features\n",
    "scaler = MinMaxScaler(feature_range=(0, 1))\n",
    "scaled_train = scaler.fit_transform(train_values)\n",
    "scaled_test = scaler.fit_transform(test_values)"
   ]
  },
  {
   "cell_type": "code",
   "execution_count": null,
   "metadata": {
    "cell_id": "00121-77255620-b1a5-43f1-9a1c-7a658e9c94a1",
    "deepnote_cell_type": "code",
    "deepnote_to_be_reexecuted": false,
    "execution_millis": 21,
    "execution_start": 1615212074310,
    "source_hash": "6c9c9ba2",
    "tags": []
   },
   "outputs": [
    {
     "name": "stdout",
     "output_type": "stream",
     "text": [
      "   var1(t-1)  var2(t-1)  var3(t-1)   var1(t)   var2(t)   var3(t)\n",
      "1   0.876623   0.729927   0.317073  0.688312  0.784672  0.292683\n",
      "2   0.688312   0.784672   0.292683  0.811688  0.777372  0.341463\n",
      "3   0.811688   0.777372   0.341463  0.610390  0.795620  0.317073\n",
      "4   0.610390   0.795620   0.317073  0.665584  0.843066  0.292683\n",
      "5   0.665584   0.843066   0.292683  0.571429  0.956204  0.146341\n"
     ]
    }
   ],
   "source": [
    "reframed_train = series_to_supervised(scaled_train, 1, 1) \n",
    "reframed_test = series_to_supervised(scaled_test, 1, 1) \n",
    "print(reframed_train.head())"
   ]
  },
  {
   "cell_type": "code",
   "execution_count": null,
   "metadata": {
    "cell_id": "00122-e4db0198-2744-4a78-843e-86be98611ecc",
    "deepnote_cell_type": "code",
    "deepnote_to_be_reexecuted": false,
    "execution_millis": 7,
    "execution_start": 1615212094425,
    "source_hash": "f8af5759",
    "tags": []
   },
   "outputs": [
    {
     "name": "stdout",
     "output_type": "stream",
     "text": [
      "   var1(t-1)  var2(t-1)  var3(t-1)   var1(t)\n",
      "1   0.876623   0.729927   0.317073  0.688312\n",
      "2   0.688312   0.784672   0.292683  0.811688\n",
      "3   0.811688   0.777372   0.341463  0.610390\n",
      "4   0.610390   0.795620   0.317073  0.665584\n",
      "5   0.665584   0.843066   0.292683  0.571429\n"
     ]
    }
   ],
   "source": [
    "# drop column we don't want to predict\n",
    "reframed_train.drop(reframed_train.columns[[4, 5]], axis=1, inplace=True)\n",
    "reframed_test.drop(reframed_test.columns[[4, 5]], axis=1, inplace=True)\n",
    "print(reframed_train.head())"
   ]
  },
  {
   "cell_type": "code",
   "execution_count": null,
   "metadata": {
    "cell_id": "00121-596e8a69-41f4-45cc-86a3-6e9637cff3f9",
    "deepnote_cell_type": "code",
    "deepnote_to_be_reexecuted": false,
    "execution_millis": 18,
    "execution_start": 1615212096893,
    "source_hash": "cfb39e11",
    "tags": []
   },
   "outputs": [
    {
     "name": "stdout",
     "output_type": "stream",
     "text": [
      "(94, 1, 3) (94,) (11, 1, 3) (11,)\n"
     ]
    }
   ],
   "source": [
    "# split into input and outputs\n",
    "train_X, train_y = reframed_train.values[:, :-1], reframed_train.values[:, -1]\n",
    "test_X, test_y = reframed_test.values[:, :-1], reframed_test.values[:, -1]\n",
    "# reshape input to be 3D [samples, timesteps, features]\n",
    "train_X = train_X.reshape((train_X.shape[0], 1, train_X.shape[1]))\n",
    "test_X = test_X.reshape((test_X.shape[0], 1, test_X.shape[1]))\n",
    "print(train_X.shape, train_y.shape, test_X.shape, test_y.shape)"
   ]
  },
  {
   "cell_type": "code",
   "execution_count": null,
   "metadata": {
    "cell_id": "00122-a59ff5f3-3d87-4e6a-bf5e-8ac916f1f3fb",
    "deepnote_cell_type": "code",
    "deepnote_to_be_reexecuted": false,
    "execution_millis": 4160,
    "execution_start": 1615212098746,
    "source_hash": "be5f9329",
    "tags": []
   },
   "outputs": [],
   "source": [
    "import keras\n",
    "from keras.models import Sequential\n",
    "from keras.layers import LSTM\n",
    "from keras.layers import Dense\n",
    "# design network\n",
    "model = Sequential()\n",
    "model.add(LSTM(3, input_shape=(train_X.shape[1], train_X.shape[2]))) # the 3 is the number of hidden layers/neurons, proportional to the sample size\n",
    "model.add(Dense(1)) #final fully-connected (dense) layer, optional\n",
    "model.compile(loss= 'mae')\n"
   ]
  },
  {
   "cell_type": "code",
   "execution_count": 8,
   "metadata": {
    "cell_id": "00123-95409be5-5a43-4f22-b969-69f4ed010b65",
    "deepnote_cell_type": "code",
    "deepnote_to_be_reexecuted": false,
    "execution_millis": 15737,
    "execution_start": 1615212102907,
    "source_hash": "915cc773",
    "tags": []
   },
   "outputs": [],
   "source": [
    "# fit network\n",
    "history = model.fit(train_X, train_y, epochs=500, batch_size=12)\n",
    "#The model will be fit for 500 training epochs with a batch size of 12(since this is monthly data). \n",
    "#Remember that the internal state of the LSTM in Keras is reset at the end of each batch, so an internal state that is a function of a number of days may be helpful."
   ]
  },
  {
   "cell_type": "code",
   "execution_count": null,
   "metadata": {
    "cell_id": "00124-78a5fd38-76f9-4fe0-bcc5-72e3ba073c1a",
    "deepnote_cell_type": "code",
    "deepnote_to_be_reexecuted": false,
    "execution_millis": 19,
    "execution_start": 1615212118653,
    "source_hash": "297a57bd",
    "tags": []
   },
   "outputs": [
    {
     "data": {
      "text/plain": [
       "(11, 1, 3)"
      ]
     },
     "execution_count": 13,
     "metadata": {},
     "output_type": "execute_result"
    }
   ],
   "source": [
    "test_X.shape"
   ]
  },
  {
   "cell_type": "code",
   "execution_count": null,
   "metadata": {
    "cell_id": "00124-f2986ad5-990a-46c5-a177-7d1d64edeb6f",
    "deepnote_cell_type": "code",
    "deepnote_to_be_reexecuted": false,
    "execution_millis": 541,
    "execution_start": 1615212118666,
    "source_hash": "d1df68a5",
    "tags": []
   },
   "outputs": [
    {
     "name": "stdout",
     "output_type": "stream",
     "text": [
      "0.016065030039089188\n"
     ]
    }
   ],
   "source": [
    "# make a prediction\n",
    "yhat = model.predict(test_X)\n",
    "test_X = test_X.reshape((test_X.shape[0], test_X.shape[2]))\n",
    "\n",
    "inv_yhat = concatenate((yhat, test_X[:, 1:]), axis=1)\n",
    "inv_yhat = scaler.inverse_transform(inv_yhat)\n",
    "inv_yhat = inv_yhat[:,0]\n",
    "\n",
    "test_y = test_y.reshape((len(test_y), 1))\n",
    "inv_y = concatenate((test_y, test_X[:, 1:]), axis=1)\n",
    "inv_y = scaler.inverse_transform(inv_y)\n",
    "inv_y = inv_y[:,0]\n",
    "\n",
    "mape=(np.abs(np.array(inv_y)-np.array(inv_yhat))/np.array(inv_y)).mean()\n",
    "\n",
    "print(mape)"
   ]
  },
  {
   "cell_type": "code",
   "execution_count": null,
   "metadata": {
    "cell_id": "00126-c9955a54-dd8a-4447-baad-22da3ff80086",
    "deepnote_cell_type": "code",
    "deepnote_to_be_reexecuted": false,
    "execution_millis": 8,
    "execution_start": 1615212630117,
    "source_hash": "1b732e09",
    "tags": []
   },
   "outputs": [
    {
     "name": "stdout",
     "output_type": "stream",
     "text": [
      " RMSE of Final Model using LSTM is :  10338.497889013888\n"
     ]
    }
   ],
   "source": [
    "#Calculate RMSE for LSTM model for given test data\n",
    "\n",
    "from sklearn.metrics import mean_squared_error\n",
    "from math import sqrt\n",
    "\n",
    "rmse = sqrt(mean_squared_error(np.array(inv_y), np.array(inv_yhat)))\n",
    "\n",
    "print(\" RMSE of Final Model using LSTM is : \", rmse)"
   ]
  },
  {
   "cell_type": "code",
   "execution_count": null,
   "metadata": {
    "cell_id": "00128-652d4c9d-1170-44a1-ba2a-f6360118a102",
    "deepnote_cell_type": "code",
    "deepnote_to_be_reexecuted": false,
    "execution_millis": 49,
    "execution_start": 1615212229461,
    "source_hash": "6d2a1f02",
    "tags": []
   },
   "outputs": [],
   "source": [
    "#plot the forecasted values from model\n",
    "\n",
    "# make a prediction\n",
    "train_yhat = model.predict(train_X)\n",
    "train_X = train_X.reshape((train_X.shape[0], train_X.shape[2]))\n",
    "\n",
    "# invert scaling for forecast\n",
    "inv_train_yhat = concatenate((train_yhat, train_X[:, 1:]), axis=1)\n",
    "inv_train_yhat = scaler.inverse_transform(inv_train_yhat)\n",
    "inv_train_yhat = inv_train_yhat[:,0]"
   ]
  },
  {
   "cell_type": "code",
   "execution_count": null,
   "metadata": {
    "cell_id": "00129-31c16873-291c-49fe-99a2-322b87b77ce2",
    "deepnote_cell_type": "code",
    "deepnote_to_be_reexecuted": false,
    "execution_millis": 0,
    "execution_start": 1615212407953,
    "source_hash": "6f483d58",
    "tags": []
   },
   "outputs": [],
   "source": [
    "history = data[['MedianSoldPrice_AllHomes.California','MedianMortageRate', 'UnemploymentRate']].dropna()\n",
    "\n",
    "test_dup = data.merge(test_data, left_index= True, right_index= True).drop(columns = ['MedianSoldPrice_AllHomes.California']).loc['2015-12-31':]\n",
    "test = test_dup[['Median House Price', 'MedianMortageRate', 'UnemploymentRate']]"
   ]
  },
  {
   "cell_type": "code",
   "execution_count": null,
   "metadata": {
    "cell_id": "00129-4d5955b1-0c49-43a9-957f-3cf0eedc6057",
    "deepnote_cell_type": "code",
    "deepnote_to_be_reexecuted": false,
    "execution_millis": 354,
    "execution_start": 1615212601465,
    "source_hash": "15c08697",
    "tags": []
   },
   "outputs": [
    {
     "data": {
      "image/png": "[encoded data removed]",
      "text/plain": [
       "<Figure size 2160x720 with 1 Axes>"
      ]
     },
     "metadata": {
      "needs_background": "light"
     },
     "output_type": "display_data"
    }
   ],
   "source": [
    "\n",
    "plt.figure(figsize=(30, 10))\n",
    "\n",
    "plt.plot(test.index, test['Median House Price'], label='Actual Test Data')\n",
    "plt.plot(list(test.index)[:-1], inv_yhat , label='LSTM forecast')\n",
    "plt.legend(loc='upper left', fontsize=20)\n",
    "plt.title('Final Model Forecast vs Actual', fontsize = 25, y = 0.9)\n",
    "plt.show()"
   ]
  },
  {
   "cell_type": "code",
   "execution_count": null,
   "metadata": {
    "cell_id": "00130-b010aa30-aefd-4ea1-a398-77d6e1dbac3e",
    "deepnote_cell_type": "code",
    "deepnote_to_be_reexecuted": false,
    "execution_millis": 0,
    "execution_start": 1615214811513,
    "source_hash": "67a7bedb",
    "tags": []
   },
   "outputs": [],
   "source": [
    "t = pd.DataFrame(data = {'Forecasted Median Prices': inv_yhat, 'Actual Median Prices': test['Median House Price'].iloc[:-1]} )"
   ]
  },
  {
   "cell_type": "code",
   "execution_count": null,
   "metadata": {
    "cell_id": "00132-109e5ad4-b2f8-401f-899a-433a93d126ba",
    "deepnote_cell_type": "code",
    "deepnote_to_be_reexecuted": false,
    "execution_millis": 16,
    "execution_start": 1615214820077,
    "source_hash": "51b57d41",
    "tags": []
   },
   "outputs": [
    {
     "data": {
      "application/vnd.deepnote.dataframe.v2+json": {
       "column_count": 2,
       "columns": [
        {
         "dtype": "float64",
         "name": "Forecasted Median Prices",
         "stats": {
          "histogram": [
           {
            "bin_end": 473926.4623809606,
            "bin_start": 468626.511413604,
            "count": 1
           },
           {
            "bin_end": 479226.41334831715,
            "bin_start": 473926.4623809606,
            "count": 1
           },
           {
            "bin_end": 484526.3643156737,
            "bin_start": 479226.41334831715,
            "count": 1
           },
           {
            "bin_end": 489826.3152830303,
            "bin_start": 484526.3643156737,
            "count": 0
           },
           {
            "bin_end": 495126.26625038683,
            "bin_start": 489826.3152830303,
            "count": 0
           },
           {
            "bin_end": 500426.2172177434,
            "bin_start": 495126.26625038683,
            "count": 1
           },
           {
            "bin_end": 505726.16818509996,
            "bin_start": 500426.2172177434,
            "count": 2
           },
           {
            "bin_end": 511026.1191524565,
            "bin_start": 505726.16818509996,
            "count": 3
           },
           {
            "bin_end": 516326.0701198131,
            "bin_start": 511026.1191524565,
            "count": 1
           },
           {
            "bin_end": 521626.02108716965,
            "bin_start": 516326.0701198131,
            "count": 1
           }
          ],
          "max": 521626.02108716965,
          "min": 468626.511413604,
          "nan_count": 0,
          "unique_count": 11
         }
        },
        {
         "dtype": "int64",
         "name": "Actual Median Prices",
         "stats": {
          "histogram": [
           {
            "bin_end": 471700,
            "bin_start": 466000,
            "count": 1
           },
           {
            "bin_end": 477400,
            "bin_start": 471700,
            "count": 1
           },
           {
            "bin_end": 483100,
            "bin_start": 477400,
            "count": 0
           },
           {
            "bin_end": 488800,
            "bin_start": 483100,
            "count": 1
           },
           {
            "bin_end": 494500,
            "bin_start": 488800,
            "count": 0
           },
           {
            "bin_end": 500200,
            "bin_start": 494500,
            "count": 0
           },
           {
            "bin_end": 505900,
            "bin_start": 500200,
            "count": 3
           },
           {
            "bin_end": 511600,
            "bin_start": 505900,
            "count": 4
           },
           {
            "bin_end": 517300,
            "bin_start": 511600,
            "count": 0
           },
           {
            "bin_end": 523000,
            "bin_start": 517300,
            "count": 1
           }
          ],
          "max": 523000,
          "min": 466000,
          "nan_count": 0,
          "unique_count": 9
         }
        },
        {
         "dtype": "object",
         "name": "_deepnote_index_column"
        }
       ],
       "row_count": 11,
       "rows_bottom": null,
       "rows_top": [
        {
         "Actual Median Prices": 476250,
         "Forecasted Median Prices": 475986.4450395107,
         "_deepnote_index_column": "2016-01-31"
        },
        {
         "Actual Median Prices": 466000,
         "Forecasted Median Prices": 468626.511413604,
         "_deepnote_index_column": "2016-02-29"
        },
        {
         "Actual Median Prices": 485000,
         "Forecasted Median Prices": 483230.20002245903,
         "_deepnote_index_column": "2016-03-31"
        },
        {
         "Actual Median Prices": 501000,
         "Forecasted Median Prices": 498438.97646665573,
         "_deepnote_index_column": "2016-04-30"
        },
        {
         "Actual Median Prices": 501000,
         "Forecasted Median Prices": 501616.71018600464,
         "_deepnote_index_column": "2016-05-31"
        },
        {
         "Actual Median Prices": 505000,
         "Forecasted Median Prices": 505414.3419265747,
         "_deepnote_index_column": "2016-06-30"
        },
        {
         "Actual Median Prices": 507000,
         "Forecasted Median Prices": 507660.17484664917,
         "_deepnote_index_column": "2016-07-31"
        },
        {
         "Actual Median Prices": 510000,
         "Forecasted Median Prices": 511820.1462030411,
         "_deepnote_index_column": "2016-08-31"
        },
        {
         "Actual Median Prices": 510000,
         "Forecasted Median Prices": 508360.42630672455,
         "_deepnote_index_column": "2016-09-30"
        },
        {
         "Actual Median Prices": 523000,
         "Forecasted Median Prices": 521626.02108716965,
         "_deepnote_index_column": "2016-10-31"
        },
        {
         "Actual Median Prices": 506000,
         "Forecasted Median Prices": 507915.11380672455,
         "_deepnote_index_column": "2016-11-30"
        }
       ]
      },
      "text/html": [
       "<div>\n",
       "<style scoped>\n",
       "    .dataframe tbody tr th:only-of-type {\n",
       "        vertical-align: middle;\n",
       "    }\n",
       "\n",
       "    .dataframe tbody tr th {\n",
       "        vertical-align: top;\n",
       "    }\n",
       "\n",
       "    .dataframe thead th {\n",
       "        text-align: right;\n",
       "    }\n",
       "</style>\n",
       "<table border=\"1\" class=\"dataframe\">\n",
       "  <thead>\n",
       "    <tr style=\"text-align: right;\">\n",
       "      <th></th>\n",
       "      <th>Forecasted Median Prices</th>\n",
       "      <th>Actual Median Prices</th>\n",
       "    </tr>\n",
       "  </thead>\n",
       "  <tbody>\n",
       "    <tr>\n",
       "      <th>2016-01-31</th>\n",
       "      <td>475986.445040</td>\n",
       "      <td>476250</td>\n",
       "    </tr>\n",
       "    <tr>\n",
       "      <th>2016-02-29</th>\n",
       "      <td>468626.511414</td>\n",
       "      <td>466000</td>\n",
       "    </tr>\n",
       "    <tr>\n",
       "      <th>2016-03-31</th>\n",
       "      <td>483230.200022</td>\n",
       "      <td>485000</td>\n",
       "    </tr>\n",
       "    <tr>\n",
       "      <th>2016-04-30</th>\n",
       "      <td>498438.976467</td>\n",
       "      <td>501000</td>\n",
       "    </tr>\n",
       "    <tr>\n",
       "      <th>2016-05-31</th>\n",
       "      <td>501616.710186</td>\n",
       "      <td>501000</td>\n",
       "    </tr>\n",
       "    <tr>\n",
       "      <th>2016-06-30</th>\n",
       "      <td>505414.341927</td>\n",
       "      <td>505000</td>\n",
       "    </tr>\n",
       "    <tr>\n",
       "      <th>2016-07-31</th>\n",
       "      <td>507660.174847</td>\n",
       "      <td>507000</td>\n",
       "    </tr>\n",
       "    <tr>\n",
       "      <th>2016-08-31</th>\n",
       "      <td>511820.146203</td>\n",
       "      <td>510000</td>\n",
       "    </tr>\n",
       "    <tr>\n",
       "      <th>2016-09-30</th>\n",
       "      <td>508360.426307</td>\n",
       "      <td>510000</td>\n",
       "    </tr>\n",
       "    <tr>\n",
       "      <th>2016-10-31</th>\n",
       "      <td>521626.021087</td>\n",
       "      <td>523000</td>\n",
       "    </tr>\n",
       "    <tr>\n",
       "      <th>2016-11-30</th>\n",
       "      <td>507915.113807</td>\n",
       "      <td>506000</td>\n",
       "    </tr>\n",
       "  </tbody>\n",
       "</table>\n",
       "</div>"
      ],
      "text/plain": [
       "            Forecasted Median Prices  Actual Median Prices\n",
       "2016-01-31             475986.445040                476250\n",
       "2016-02-29             468626.511414                466000\n",
       "2016-03-31             483230.200022                485000\n",
       "2016-04-30             498438.976467                501000\n",
       "2016-05-31             501616.710186                501000\n",
       "2016-06-30             505414.341927                505000\n",
       "2016-07-31             507660.174847                507000\n",
       "2016-08-31             511820.146203                510000\n",
       "2016-09-30             508360.426307                510000\n",
       "2016-10-31             521626.021087                523000\n",
       "2016-11-30             507915.113807                506000"
      ]
     },
     "execution_count": 36,
     "metadata": {},
     "output_type": "execute_result"
    }
   ],
   "source": [
    "t"
   ]
  },
  {
   "cell_type": "markdown",
   "metadata": {
    "created_in_deepnote_cell": true,
    "deepnote_cell_type": "markdown",
    "tags": []
   },
   "source": [
    "<a style='text-decoration:none;line-height:16px;display:flex;color:#5B5B62;padding:10px;justify-content:end;' href='https://deepnote.com?utm_source=created-in-deepnote-cell&projectId=bd2abfc2-703e-4c6c-9e1f-df541620896e' target=\"_blank\">\n",
    "<img style='display:inline;max-height:16px;margin:0px;margin-right:7.5px;' src='data:image/svg+xml;base64,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' > </img>\n",
    "Created in <span style='font-weight:600;margin-left:4px;'>Deepnote</span></a>"
   ]
  }
 ],
 "metadata": {
  "colab": {
   "collapsed_sections": [],
   "name": "Time Series Analysis.ipynb",
   "provenance": []
  },
  "deepnote": {},
  "deepnote_execution_queue": [],
  "deepnote_notebook_id": "bf80ba90-1378-4fa3-937f-eef1bb6770a3",
  "kernelspec": {
   "display_name": "Python 3",
   "language": "python",
   "name": "python3"
  },
  "language_info": {
   "codemirror_mode": {
    "name": "ipython",
    "version": 3
   },
   "file_extension": ".py",
   "mimetype": "text/x-python",
   "name": "python",
   "nbconvert_exporter": "python",
   "pygments_lexer": "ipython3",
   "version": "3.8.3"
  }
 },
 "nbformat": 4,
 "nbformat_minor": 4
}
